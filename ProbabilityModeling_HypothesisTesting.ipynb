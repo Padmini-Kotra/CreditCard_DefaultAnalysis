{
 "cells": [
  {
   "cell_type": "markdown",
   "id": "65ebe957",
   "metadata": {},
   "source": [
    "# Inferential Statistics and Hypothesis Testing"
   ]
  },
  {
   "cell_type": "markdown",
   "id": "ad3d1f59",
   "metadata": {},
   "source": [
    "### Objectives:\n",
    "- Use probability distributions such as the normal, poisson, and binomial distributions to model the data.\n",
    "- Calculate confidence intervals to estimate population parameters using the t-distribution and z-distribution to calculate confidence intervals for the mean and proportion, respectively.\n",
    "- Conduct hypothesis tests using the t-test, F-test, ANOVA-test, and Chi-Square test to identify factors that contribute to credit card defaults.\n",
    "- Interpret the results and provide recommendations based on the analysis."
   ]
  },
  {
   "cell_type": "markdown",
   "id": "f0e54a4b",
   "metadata": {},
   "source": [
    "### Business Objective:\n",
    "The objective of this project is to identify factors that contribute to credit card defaults, which can help the credit card company to reduce losses, mitigate risks, and improve customer satisfaction. By gaining insights into the data and understanding the relationships between variables, the credit card company can make informed decisions to improve its business operations, marketing efforts, and customer targeting."
   ]
  },
  {
   "cell_type": "markdown",
   "id": "8b4c075a",
   "metadata": {},
   "source": [
    "### Problem Statement:\n",
    "1. Analyze the customer data to identify factors that contribute to credit card defaults. \n",
    "2. Clean and prepare the data, perform exploratory data analysis to identify relationships between variables, and use inferential statistics and hypothesis testing to draw meaningful conclusions about the population based on a sample."
   ]
  },
  {
   "cell_type": "markdown",
   "id": "dfd7eeaf",
   "metadata": {},
   "source": [
    "## Understanding Credit Card System:\n",
    "1. Every month, a customer is billed as per their transactions.\n",
    "2. In the next month, by the due date, an amount between the range of minimum amount due and the full amount billed is paid by the customer.\n",
    "3. The next bill will be the remaining amount from previous month plus the usage in the current month.\n",
    "4. Missing minimum due payments lead to late payment charges and continued misses result in default.\n",
    "5. A customer is considered a defaulter when he misses payment by the due date mentioned."
   ]
  },
  {
   "cell_type": "code",
   "execution_count": 1,
   "id": "bf83569c",
   "metadata": {},
   "outputs": [],
   "source": [
    "import numpy as np\n",
    "import pandas as pd\n",
    "import seaborn as sns\n",
    "import matplotlib.pyplot as plt\n",
    "%matplotlib inline\n",
    "import warnings\n",
    "warnings.filterwarnings('ignore')"
   ]
  },
  {
   "cell_type": "markdown",
   "id": "95e873d7",
   "metadata": {},
   "source": [
    "#### Importing Data into a Pandas Dataframe"
   ]
  },
  {
   "cell_type": "code",
   "execution_count": 2,
   "id": "67b48f3a",
   "metadata": {},
   "outputs": [
    {
     "data": {
      "text/html": [
       "<div>\n",
       "<style scoped>\n",
       "    .dataframe tbody tr th:only-of-type {\n",
       "        vertical-align: middle;\n",
       "    }\n",
       "\n",
       "    .dataframe tbody tr th {\n",
       "        vertical-align: top;\n",
       "    }\n",
       "\n",
       "    .dataframe thead th {\n",
       "        text-align: right;\n",
       "    }\n",
       "</style>\n",
       "<table border=\"1\" class=\"dataframe\">\n",
       "  <thead>\n",
       "    <tr style=\"text-align: right;\">\n",
       "      <th></th>\n",
       "      <th>ID</th>\n",
       "      <th>AMT</th>\n",
       "      <th>GENDER</th>\n",
       "      <th>EDUCATION</th>\n",
       "      <th>MARITAL STATUS</th>\n",
       "      <th>AGE</th>\n",
       "      <th>REPAY_SEP</th>\n",
       "      <th>REPAY_AUG</th>\n",
       "      <th>REPAY_JUL</th>\n",
       "      <th>REPAY_JUN</th>\n",
       "      <th>REPAY_MAY</th>\n",
       "      <th>REPAY_APR</th>\n",
       "      <th>AMTBILL_SEP</th>\n",
       "      <th>AMTBILL_AUG</th>\n",
       "      <th>AMTBILL_JUL</th>\n",
       "      <th>AMTBILL_JUN</th>\n",
       "      <th>AMTBILL_MAY</th>\n",
       "      <th>AMTBILL_APR</th>\n",
       "      <th>PRE_SEP</th>\n",
       "      <th>PRE_AUG</th>\n",
       "      <th>PRE_JUL</th>\n",
       "      <th>PRE_JUN</th>\n",
       "      <th>PRE_MAY</th>\n",
       "      <th>PRE_APR</th>\n",
       "      <th>DEF_AMT</th>\n",
       "    </tr>\n",
       "  </thead>\n",
       "  <tbody>\n",
       "    <tr>\n",
       "      <th>0</th>\n",
       "      <td>1</td>\n",
       "      <td>20000.0</td>\n",
       "      <td>2</td>\n",
       "      <td>2.0</td>\n",
       "      <td>1</td>\n",
       "      <td>24</td>\n",
       "      <td>2</td>\n",
       "      <td>2</td>\n",
       "      <td>0</td>\n",
       "      <td>0</td>\n",
       "      <td>0</td>\n",
       "      <td>0</td>\n",
       "      <td>3913.0</td>\n",
       "      <td>3102.0</td>\n",
       "      <td>689.0</td>\n",
       "      <td>0.0</td>\n",
       "      <td>0.0</td>\n",
       "      <td>0.0</td>\n",
       "      <td>0.0</td>\n",
       "      <td>689.0</td>\n",
       "      <td>0.0</td>\n",
       "      <td>0.0</td>\n",
       "      <td>0.0</td>\n",
       "      <td>0.0</td>\n",
       "      <td>1</td>\n",
       "    </tr>\n",
       "    <tr>\n",
       "      <th>1</th>\n",
       "      <td>2</td>\n",
       "      <td>120000.0</td>\n",
       "      <td>2</td>\n",
       "      <td>2.0</td>\n",
       "      <td>2</td>\n",
       "      <td>26</td>\n",
       "      <td>0</td>\n",
       "      <td>2</td>\n",
       "      <td>0</td>\n",
       "      <td>0</td>\n",
       "      <td>0</td>\n",
       "      <td>2</td>\n",
       "      <td>2682.0</td>\n",
       "      <td>1725.0</td>\n",
       "      <td>2682.0</td>\n",
       "      <td>3272.0</td>\n",
       "      <td>3455.0</td>\n",
       "      <td>3261.0</td>\n",
       "      <td>0.0</td>\n",
       "      <td>1000.0</td>\n",
       "      <td>1000.0</td>\n",
       "      <td>1000.0</td>\n",
       "      <td>0.0</td>\n",
       "      <td>2000.0</td>\n",
       "      <td>1</td>\n",
       "    </tr>\n",
       "    <tr>\n",
       "      <th>2</th>\n",
       "      <td>3</td>\n",
       "      <td>90000.0</td>\n",
       "      <td>2</td>\n",
       "      <td>2.0</td>\n",
       "      <td>2</td>\n",
       "      <td>34</td>\n",
       "      <td>0</td>\n",
       "      <td>0</td>\n",
       "      <td>0</td>\n",
       "      <td>0</td>\n",
       "      <td>0</td>\n",
       "      <td>0</td>\n",
       "      <td>29239.0</td>\n",
       "      <td>14027.0</td>\n",
       "      <td>13559.0</td>\n",
       "      <td>14331.0</td>\n",
       "      <td>14948.0</td>\n",
       "      <td>15549.0</td>\n",
       "      <td>1518.0</td>\n",
       "      <td>1500.0</td>\n",
       "      <td>1000.0</td>\n",
       "      <td>1000.0</td>\n",
       "      <td>1000.0</td>\n",
       "      <td>5000.0</td>\n",
       "      <td>0</td>\n",
       "    </tr>\n",
       "    <tr>\n",
       "      <th>3</th>\n",
       "      <td>4</td>\n",
       "      <td>50000.0</td>\n",
       "      <td>2</td>\n",
       "      <td>2.0</td>\n",
       "      <td>1</td>\n",
       "      <td>37</td>\n",
       "      <td>0</td>\n",
       "      <td>0</td>\n",
       "      <td>0</td>\n",
       "      <td>0</td>\n",
       "      <td>0</td>\n",
       "      <td>0</td>\n",
       "      <td>46990.0</td>\n",
       "      <td>48233.0</td>\n",
       "      <td>49291.0</td>\n",
       "      <td>28314.0</td>\n",
       "      <td>28959.0</td>\n",
       "      <td>29547.0</td>\n",
       "      <td>2000.0</td>\n",
       "      <td>2019.0</td>\n",
       "      <td>1200.0</td>\n",
       "      <td>1100.0</td>\n",
       "      <td>1069.0</td>\n",
       "      <td>1000.0</td>\n",
       "      <td>0</td>\n",
       "    </tr>\n",
       "    <tr>\n",
       "      <th>4</th>\n",
       "      <td>5</td>\n",
       "      <td>50000.0</td>\n",
       "      <td>1</td>\n",
       "      <td>2.0</td>\n",
       "      <td>1</td>\n",
       "      <td>57</td>\n",
       "      <td>0</td>\n",
       "      <td>0</td>\n",
       "      <td>0</td>\n",
       "      <td>0</td>\n",
       "      <td>0</td>\n",
       "      <td>0</td>\n",
       "      <td>8617.0</td>\n",
       "      <td>5670.0</td>\n",
       "      <td>35835.0</td>\n",
       "      <td>20940.0</td>\n",
       "      <td>19146.0</td>\n",
       "      <td>19131.0</td>\n",
       "      <td>2000.0</td>\n",
       "      <td>36681.0</td>\n",
       "      <td>10000.0</td>\n",
       "      <td>9000.0</td>\n",
       "      <td>689.0</td>\n",
       "      <td>679.0</td>\n",
       "      <td>0</td>\n",
       "    </tr>\n",
       "  </tbody>\n",
       "</table>\n",
       "</div>"
      ],
      "text/plain": [
       "   ID       AMT  GENDER  EDUCATION  MARITAL STATUS  AGE  REPAY_SEP  REPAY_AUG  \\\n",
       "0   1   20000.0       2        2.0               1   24          2          2   \n",
       "1   2  120000.0       2        2.0               2   26          0          2   \n",
       "2   3   90000.0       2        2.0               2   34          0          0   \n",
       "3   4   50000.0       2        2.0               1   37          0          0   \n",
       "4   5   50000.0       1        2.0               1   57          0          0   \n",
       "\n",
       "   REPAY_JUL  REPAY_JUN  REPAY_MAY  REPAY_APR  AMTBILL_SEP  AMTBILL_AUG  \\\n",
       "0          0          0          0          0       3913.0       3102.0   \n",
       "1          0          0          0          2       2682.0       1725.0   \n",
       "2          0          0          0          0      29239.0      14027.0   \n",
       "3          0          0          0          0      46990.0      48233.0   \n",
       "4          0          0          0          0       8617.0       5670.0   \n",
       "\n",
       "   AMTBILL_JUL  AMTBILL_JUN  AMTBILL_MAY  AMTBILL_APR  PRE_SEP  PRE_AUG  \\\n",
       "0        689.0          0.0          0.0          0.0      0.0    689.0   \n",
       "1       2682.0       3272.0       3455.0       3261.0      0.0   1000.0   \n",
       "2      13559.0      14331.0      14948.0      15549.0   1518.0   1500.0   \n",
       "3      49291.0      28314.0      28959.0      29547.0   2000.0   2019.0   \n",
       "4      35835.0      20940.0      19146.0      19131.0   2000.0  36681.0   \n",
       "\n",
       "   PRE_JUL  PRE_JUN  PRE_MAY  PRE_APR  DEF_AMT  \n",
       "0      0.0      0.0      0.0      0.0        1  \n",
       "1   1000.0   1000.0      0.0   2000.0        1  \n",
       "2   1000.0   1000.0   1000.0   5000.0        0  \n",
       "3   1200.0   1100.0   1069.0   1000.0        0  \n",
       "4  10000.0   9000.0    689.0    679.0        0  "
      ]
     },
     "execution_count": 2,
     "metadata": {},
     "output_type": "execute_result"
    }
   ],
   "source": [
    "df=pd.read_csv(\"Credit Dataset for HV Turnkey Lender.csv\")\n",
    "\n",
    "# Set the option to display all columns\n",
    "pd.set_option('display.max_columns', None)\n",
    "\n",
    "df.head() # View the top 5 records"
   ]
  },
  {
   "cell_type": "markdown",
   "id": "5baa6146",
   "metadata": {},
   "source": [
    "#### Shape of the dataset to understand the amount of data we have on hand"
   ]
  },
  {
   "cell_type": "code",
   "execution_count": 3,
   "id": "1c6df50c",
   "metadata": {},
   "outputs": [
    {
     "data": {
      "text/plain": [
       "(30000, 25)"
      ]
     },
     "execution_count": 3,
     "metadata": {},
     "output_type": "execute_result"
    }
   ],
   "source": [
    "df.shape"
   ]
  },
  {
   "cell_type": "markdown",
   "id": "d869bd99",
   "metadata": {},
   "source": [
    "We have 25 columns and 30000 rows"
   ]
  },
  {
   "cell_type": "markdown",
   "id": "d79e63bd",
   "metadata": {},
   "source": [
    "#### Understanding the data, knowing what each column represents:\n",
    "- ID: ID of each client\n",
    "- AMT: Amount of given credit in dollars (includes individual and family/supplementary credit\n",
    "- GENDER: Gender (1=male, 2=female)\n",
    "- EDUCATION: (1=graduate school, 2=university, 3=high school, 4=others, 5=unknown)\n",
    "- MARITAL STATUS: Marital status (1=married, 2=single, 3=others)\n",
    "- AGE: Age in years\n",
    "- REPAY_SEP: Repayment status in September, 2005 (0=pay duly, 1=payment delay for one month, 2=payment delay for two months, … 8=payment delay for eight months, 9=payment delay for nine months and above)\n",
    "- REPAY_AUG: Repayment status in August, 2005 (scale same as above)\n",
    "- REPAY_JUL: Repayment status in July, 2005 (scale same as above)\n",
    "- REPAY_JUN: Repayment status in June, 2005 (scale same as above)\n",
    "- REPAY_MAY: Repayment status in May, 2005 (scale same as above)\n",
    "- REPAY_APR: Repayment status in April, 2005 (scale same as above)\n",
    "- AMTBILL_SEP: Amount of bill statement in September, 2005\n",
    "- AMTBILL_AUG: Amount of bill statement in August, 2005\n",
    "- AMTBILL_JUL: Amount of bill statement in July, 2005\n",
    "- AMTBILL_JUN: Amount of bill statement in June, 2005\n",
    "- AMTBILL_MAY: Amount of bill statement in May, 2005\n",
    "- AMTBILL_APR: Amount of bill statement in April, 2005\n",
    "- PRE_SEP: Amount of previous payment in September, 2005\n",
    "- PRE_AUG: Amount of previous payment in August, 2005\n",
    "- PRE_JUL: Amount of previous payment in July, 2005\n",
    "- PRE_JUN: Amount of previous payment in June, 2005\n",
    "- PRE_MAY: Amount of previous payment in May, 2005\n",
    "- PRE_APR: Amount of previous payment in April, 2005\n",
    "- DEF_AMT: Default payment (1=yes, 0=no)"
   ]
  },
  {
   "cell_type": "markdown",
   "id": "7f4f4e9a",
   "metadata": {},
   "source": [
    "#### Missing Values Check:"
   ]
  },
  {
   "cell_type": "code",
   "execution_count": 4,
   "id": "581b0305",
   "metadata": {},
   "outputs": [
    {
     "data": {
      "text/plain": [
       "ID                 0\n",
       "AMT                0\n",
       "GENDER             0\n",
       "EDUCATION         14\n",
       "MARITAL STATUS     0\n",
       "AGE                0\n",
       "REPAY_SEP          0\n",
       "REPAY_AUG          0\n",
       "REPAY_JUL          0\n",
       "REPAY_JUN          0\n",
       "REPAY_MAY          0\n",
       "REPAY_APR          0\n",
       "AMTBILL_SEP        0\n",
       "AMTBILL_AUG        0\n",
       "AMTBILL_JUL        0\n",
       "AMTBILL_JUN        0\n",
       "AMTBILL_MAY        0\n",
       "AMTBILL_APR        0\n",
       "PRE_SEP            0\n",
       "PRE_AUG            0\n",
       "PRE_JUL            0\n",
       "PRE_JUN            0\n",
       "PRE_MAY            0\n",
       "PRE_APR            0\n",
       "DEF_AMT            0\n",
       "dtype: int64"
      ]
     },
     "execution_count": 4,
     "metadata": {},
     "output_type": "execute_result"
    }
   ],
   "source": [
    "df.isna().sum()"
   ]
  },
  {
   "cell_type": "markdown",
   "id": "ddb0dbed",
   "metadata": {},
   "source": [
    "There are only 14 missing values in the 'EDUCATION' column. Since the number is insignificant, we shall drop the rows with these empty rows permanently."
   ]
  },
  {
   "cell_type": "code",
   "execution_count": 5,
   "id": "19a16400",
   "metadata": {},
   "outputs": [],
   "source": [
    "df.dropna(inplace=True)"
   ]
  },
  {
   "cell_type": "code",
   "execution_count": 6,
   "id": "a58ae7ec",
   "metadata": {},
   "outputs": [
    {
     "data": {
      "text/plain": [
       "(29986, 25)"
      ]
     },
     "execution_count": 6,
     "metadata": {},
     "output_type": "execute_result"
    }
   ],
   "source": [
    "df.shape #Check shape to confirm the size of the remaining data"
   ]
  },
  {
   "cell_type": "markdown",
   "id": "b4a9a92e",
   "metadata": {},
   "source": [
    "From the EDA we performed earlier, we know that there are no duplicates and that the values are all in line. There are no junk values or special characters which might deter data modeling and prediction. So, let us move ahead with the probability modeling of the data."
   ]
  },
  {
   "cell_type": "markdown",
   "id": "df284fa6",
   "metadata": {},
   "source": [
    "#### Using Probability Distributions to model the data and calculating Confidence Intervals:"
   ]
  },
  {
   "cell_type": "markdown",
   "id": "42983131",
   "metadata": {},
   "source": [
    "Let us start with AMT column. It's a continuous variable, so we may assume a normal, log normal or exponential distribution. Use:\n",
    "- Shapiro-Wilk test for normality\n",
    "- Kolmogorov-Smirnov test for log normal distribution\n",
    "- chi-square goodness of fit test for exponential distribution"
   ]
  },
  {
   "cell_type": "code",
   "execution_count": 7,
   "id": "7e8ba3eb",
   "metadata": {
    "scrolled": true
   },
   "outputs": [
    {
     "name": "stdout",
     "output_type": "stream",
     "text": [
      "Shapiro-Wilk Test for Normality:\n",
      "Test Statistic=0.9072, p-value=0.0000\n",
      "Sample does not look Gaussian (reject H0)\n",
      "Kolmogorov-Smirnov Test for Log Normal Distribution:\n",
      "Test Statistic=0.7488, p-value=0.0000\n",
      "Sample does not look Log Normal (reject H0)\n",
      "Chi-Square Goodness of Fit Test for Exponential Distribution:\n",
      "Chi2 Statistic=3014937179.0642, p-value=0.0000\n",
      "Sample distribution does not match Exponential Distribution (reject H0)\n"
     ]
    }
   ],
   "source": [
    "import scipy.stats as stats\n",
    "\n",
    "# AMT Column\n",
    "amt_column = df['AMT']\n",
    "\n",
    "# Shapiro-Wilk Test for Normality\n",
    "shapiro_stat, shapiro_p = stats.shapiro(amt_column)\n",
    "print('Shapiro-Wilk Test for Normality:')\n",
    "print('Test Statistic=%.4f, p-value=%.4f' % (shapiro_stat, shapiro_p))\n",
    "alpha = 0.05\n",
    "if shapiro_p > alpha:\n",
    "    print('Sample looks Gaussian (fail to reject H0)')\n",
    "else:\n",
    "    print('Sample does not look Gaussian (reject H0)')\n",
    "\n",
    "# Kolmogorov-Smirnov Test for Log Normal Distribution\n",
    "\n",
    "# Fit a log-normal distribution to the data\n",
    "params = stats.lognorm.fit(amt_column)\n",
    "\n",
    "# Perform the Kolmogorov-Smirnov test\n",
    "kstest_stat, kstest_p = stats.kstest(amt_column, 'lognorm', params)\n",
    "\n",
    "# If the p-value is greater than 0.05, then the data is assumed to be log-normally distributed\n",
    "\n",
    "print('Kolmogorov-Smirnov Test for Log Normal Distribution:')\n",
    "print('Test Statistic=%.4f, p-value=%.4f' % (kstest_stat, kstest_p))\n",
    "if kstest_p > alpha:\n",
    "    print('Sample looks Log Normal (fail to reject H0)')\n",
    "else:\n",
    "    print('Sample does not look Log Normal (reject H0)')\n",
    "\n",
    "    \n",
    "# Chi-Square Goodness of Fit Test for Exponential Distribution\n",
    "chi2_stat, chi2_p = stats.chisquare(amt_column)\n",
    "print('Chi-Square Goodness of Fit Test for Exponential Distribution:')\n",
    "print('Chi2 Statistic=%.4f, p-value=%.4f' % (chi2_stat, chi2_p))\n",
    "if chi2_p > alpha:\n",
    "    print('Sample distribution matches Exponential Distribution (fail to reject H0)')\n",
    "else:\n",
    "    print('Sample distribution does not match Exponential Distribution (reject H0)')\n"
   ]
  },
  {
   "cell_type": "markdown",
   "id": "df80ab11",
   "metadata": {},
   "source": [
    "Looks like the AMT column is not following any of the above distributions. Let us examine it's density plot."
   ]
  },
  {
   "cell_type": "code",
   "execution_count": 8,
   "id": "3652b569",
   "metadata": {},
   "outputs": [
    {
     "data": {
      "image/png": "[encoded data removed]",
      "text/plain": [
       "<Figure size 400x400 with 1 Axes>"
      ]
     },
     "metadata": {},
     "output_type": "display_data"
    }
   ],
   "source": [
    "# KDE Plot for AMT Column\n",
    "plt.figure(figsize=(4,4))\n",
    "sns.kdeplot(amt_column, shade=True)\n",
    "plt.title('Kernel Density Estimation (KDE) Plot for AMT Column')\n",
    "plt.show()\n"
   ]
  },
  {
   "cell_type": "markdown",
   "id": "c55f56ac",
   "metadata": {},
   "source": [
    "From the density plot, we see that it is a skewed distribution. So in order to calculate the Confidence Intervals for point estimates, we can consider central limit theorem. We can draw multiple samples from the existing dataset and calculate the means which will inturn give us a very close estimate of the population mean.  \n",
    "This can be achieved in python using a method called bootstrapping."
   ]
  },
  {
   "cell_type": "code",
   "execution_count": 9,
   "id": "d5fd41ae",
   "metadata": {},
   "outputs": [
    {
     "name": "stdout",
     "output_type": "stream",
     "text": [
      "Bootstrap Confidence Interval for Mean of AMT column is: [165992.27699593 168932.25478557]\n"
     ]
    }
   ],
   "source": [
    "from sklearn.utils import resample\n",
    "\n",
    "# Bootstrap method to estimate confidence intervals for the median\n",
    "n_iterations = 1000\n",
    "means = []\n",
    "for _ in range(n_iterations):\n",
    "    sample = resample(df['AMT'], replace=True, n_samples=len(df['AMT']))\n",
    "    means.append(np.mean(sample))\n",
    "\n",
    "confidence_interval = np.percentile(means, [2.5, 97.5]) # assuming 95% confidence\n",
    "print(f\"Bootstrap Confidence Interval for Mean of AMT column is: {confidence_interval}\")\n"
   ]
  },
  {
   "cell_type": "markdown",
   "id": "3ca5967f",
   "metadata": {},
   "source": [
    "For finding the confidence interval for median, let us use a robust estimator called as Mean Absolute Deviation (MAD)"
   ]
  },
  {
   "cell_type": "code",
   "execution_count": 10,
   "id": "c8c422c5",
   "metadata": {},
   "outputs": [
    {
     "name": "stdout",
     "output_type": "stream",
     "text": [
      "Confidence Interval for Median using MAD: (-247745.90707118995, 527745.90707119)\n"
     ]
    }
   ],
   "source": [
    "from statsmodels.robust.scale import mad\n",
    "\n",
    "median_estimate = np.median(df.AMT)\n",
    "mad_estimate = 1.4826 * mad(df.AMT)  # MAD is Mean Absolute Deviation\n",
    "lower_bound = median_estimate - 1.96 * mad_estimate\n",
    "upper_bound = median_estimate + 1.96 * mad_estimate\n",
    "print(f\"Confidence Interval for Median using MAD: ({lower_bound}, {upper_bound})\")\n"
   ]
  },
  {
   "cell_type": "markdown",
   "id": "7f5cb3cd",
   "metadata": {},
   "source": [
    "A similar approach can be followed for the AMTBILL columns and the PREvious payments columns.  \n",
    "Let us create a function to see which of the distributions out of normal, log normal and exponential are followed by each of the columns."
   ]
  },
  {
   "cell_type": "code",
   "execution_count": 11,
   "id": "523d5536",
   "metadata": {},
   "outputs": [],
   "source": [
    "def find_dist(column):\n",
    "    dist=''\n",
    "    # Shapiro-Wilk Test for Normality\n",
    "    shapiro_stat, shapiro_p = stats.shapiro(df[column])\n",
    "    alpha = 0.05\n",
    "    if shapiro_p > alpha:\n",
    "        dist='n'\n",
    "\n",
    "    # Kolmogorov-Smirnov Test for Log Normal Distribution\n",
    "    kstest_stat, kstest_p = stats.kstest(df[column], 'lognorm',args=(1,))\n",
    "    if kstest_p > alpha:\n",
    "        dist='l'\n",
    "\n",
    "    # Chi-Square Goodness of Fit Test for Exponential Distribution\n",
    "    chi2_stat, chi2_p = stats.chisquare(df[column])\n",
    "    if chi2_p > alpha:\n",
    "        dist='e'\n",
    "    return dist"
   ]
  },
  {
   "cell_type": "code",
   "execution_count": 12,
   "id": "b32d8e12",
   "metadata": {},
   "outputs": [
    {
     "data": {
      "text/plain": [
       "Index(['ID', 'AMT', 'GENDER', 'EDUCATION', 'MARITAL STATUS', 'AGE',\n",
       "       'REPAY_SEP', 'REPAY_AUG', 'REPAY_JUL', 'REPAY_JUN', 'REPAY_MAY',\n",
       "       'REPAY_APR', 'AMTBILL_SEP', 'AMTBILL_AUG', 'AMTBILL_JUL', 'AMTBILL_JUN',\n",
       "       'AMTBILL_MAY', 'AMTBILL_APR', 'PRE_SEP', 'PRE_AUG', 'PRE_JUL',\n",
       "       'PRE_JUN', 'PRE_MAY', 'PRE_APR', 'DEF_AMT'],\n",
       "      dtype='object')"
      ]
     },
     "execution_count": 12,
     "metadata": {},
     "output_type": "execute_result"
    }
   ],
   "source": [
    "df.columns"
   ]
  },
  {
   "cell_type": "code",
   "execution_count": 13,
   "id": "aca16331",
   "metadata": {},
   "outputs": [
    {
     "name": "stdout",
     "output_type": "stream",
     "text": [
      "AMTBILL_SEP is none of the 3 assumed distributions.\n",
      "AMTBILL_AUG is none of the 3 assumed distributions.\n",
      "AMTBILL_JUL is none of the 3 assumed distributions.\n",
      "AMTBILL_JUN is none of the 3 assumed distributions.\n",
      "AMTBILL_MAY is none of the 3 assumed distributions.\n",
      "AMTBILL_APR is none of the 3 assumed distributions.\n",
      "PRE_SEP is none of the 3 assumed distributions.\n",
      "PRE_AUG is none of the 3 assumed distributions.\n",
      "PRE_JUL is none of the 3 assumed distributions.\n",
      "PRE_JUN is none of the 3 assumed distributions.\n",
      "PRE_MAY is none of the 3 assumed distributions.\n",
      "PRE_APR is none of the 3 assumed distributions.\n"
     ]
    }
   ],
   "source": [
    "col_list=['AMTBILL_SEP', 'AMTBILL_AUG', 'AMTBILL_JUL', 'AMTBILL_JUN',\n",
    "       'AMTBILL_MAY', 'AMTBILL_APR', 'PRE_SEP', 'PRE_AUG', 'PRE_JUL',\n",
    "       'PRE_JUN', 'PRE_MAY', 'PRE_APR']\n",
    "for i in col_list:\n",
    "    dist=find_dist(i)\n",
    "    if dist=='':\n",
    "        print(f\"{i} is none of the 3 assumed distributions.\")\n",
    "    elif dist=='n':\n",
    "        print(f\"{i} is normally distributed\")\n",
    "    elif dist=='l':\n",
    "        print(f\"{i} follows log normal distribution\")\n",
    "    else:\n",
    "        print(f\"{i} follows exponential distribution\")"
   ]
  },
  {
   "cell_type": "markdown",
   "id": "e9dc9db7",
   "metadata": {},
   "source": [
    "Since none of the above columns are following any of the assumed distributions, let us look at their density plots.\n"
   ]
  },
  {
   "cell_type": "code",
   "execution_count": 14,
   "id": "ad2d971d",
   "metadata": {},
   "outputs": [
    {
     "data": {
      "image/png": "[encoded data removed]",
      "text/plain": [
       "<Figure size 1500x1000 with 12 Axes>"
      ]
     },
     "metadata": {},
     "output_type": "display_data"
    }
   ],
   "source": [
    "fig, axes = plt.subplots(3, 4, figsize=(15, 10))\n",
    "for i, col in enumerate(col_list):\n",
    "    ax = axes[i // 4, i % 4]\n",
    "    sns.kdeplot(df[col], shade=True, ax=ax)\n",
    "    ax.set_title(f'Kernel Density Estimation (KDE) Plot for {col}')\n",
    "plt.tight_layout()\n",
    "plt.show()"
   ]
  },
  {
   "cell_type": "markdown",
   "id": "3625b2e5",
   "metadata": {},
   "source": [
    "All the density plots above look skewed, so let us find the confidence intervals also similarly using bootstrap method and robust estimators."
   ]
  },
  {
   "cell_type": "code",
   "execution_count": 15,
   "id": "15ee35d8",
   "metadata": {},
   "outputs": [],
   "source": [
    "def find_ci(column):\n",
    "    \n",
    "    # Bootstrap method to estimate confidence intervals for the mean\n",
    "    n_iterations = 1000\n",
    "    means = []\n",
    "    for _ in range(n_iterations):\n",
    "        sample = resample(df[column], replace=True, n_samples=len(df[column]))\n",
    "        means.append(np.mean(sample))\n",
    "\n",
    "    confidence_interval_mean = np.percentile(means, [2.5, 97.5]) # assuming 95% confidence\n",
    "    \n",
    "\n",
    "\n",
    "    # Robust estimators to estimate confidence intervals for the median\n",
    "    median_estimate = np.median(df[column])\n",
    "    mad_estimate = 1.4826 * mad(df[column])  # MAD is Mean Absolute Deviation\n",
    "    lower_bound = median_estimate - 1.96 * mad_estimate\n",
    "    upper_bound = median_estimate + 1.96 * mad_estimate\n",
    "    confidence_interval_median=[lower_bound, upper_bound]\n",
    "    \n",
    "    return confidence_interval_mean,confidence_interval_median"
   ]
  },
  {
   "cell_type": "code",
   "execution_count": 16,
   "id": "0a231953",
   "metadata": {},
   "outputs": [
    {
     "name": "stdout",
     "output_type": "stream",
     "text": [
      "AMTBILL_SEP:\n",
      "    Confidence Interval for Mean is [50424.21033316 52073.45896335]\n",
      "    Confidence Interval for Median is [-71539.40841978027, 116336.40841978027]\n",
      "AMTBILL_AUG:\n",
      "    Confidence Interval for Mean is [48465.87802975 50076.83660041]\n",
      "    Confidence Interval for Median is [-68508.40289627334, 110940.40289627334]\n",
      "AMTBILL_JUL:\n",
      "    Confidence Interval for Mean is [46287.50311229 47848.14217635]\n",
      "    Confidence Interval for Median is [-64794.84977752433, 104981.84977752433]\n",
      "AMTBILL_JUN:\n",
      "    Confidence Interval for Mean is [42591.39425232 44040.84946475]\n",
      "    Confidence Interval for Median is [-61257.10221801247, 99373.10221801247]\n",
      "AMTBILL_MAY:\n",
      "    Confidence Interval for Mean is [39620.85903338 41010.8129302 ]\n",
      "    Confidence Interval for Median is [-58088.64974698602, 94325.64974698602]\n",
      "AMTBILL_APR:\n",
      "    Confidence Interval for Mean is [38286.88710565 39597.54740379]\n",
      "    Confidence Interval for Median is [-55162.25807057257, 89359.25807057257]\n",
      "PRE_SEP:\n",
      "    Confidence Interval for Mean is [5481.02602381 5841.79271827]\n",
      "    Confidence Interval for Median is [-6221.45799453337, 10421.45799453337]\n",
      "PRE_AUG:\n",
      "    Confidence Interval for Mean is [5667.90111552 6189.46089092]\n",
      "    Confidence Interval for Median is [-6568.801121985989, 10586.801121985989]\n",
      "PRE_JUL:\n",
      "    Confidence Interval for Mean is [5034.24230307 5432.60799456]\n",
      "    Confidence Interval for Median is [-5933.376702142066, 9533.376702142066]\n",
      "PRE_JUN:\n",
      "    Confidence Interval for Mean is [4651.36854282 5006.34940889]\n",
      "    Confidence Interval for Median is [-4962.431784519832, 7962.431784519832]\n",
      "PRE_MAY:\n",
      "    Confidence Interval for Mean is [4637.60857984 4977.27396869]\n",
      "    Confidence Interval for Median is [-4962.431784519832, 7962.431784519832]\n",
      "PRE_APR:\n",
      "    Confidence Interval for Mean is [5027.15329404 5411.22447892]\n",
      "    Confidence Interval for Median is [-4962.431784519832, 7962.431784519832]\n"
     ]
    }
   ],
   "source": [
    "for i in col_list:\n",
    "    print(f\"{i}:\")\n",
    "    ci_mean,ci_median=find_ci(i)\n",
    "    print(f\"    Confidence Interval for Mean is {ci_mean}\")\n",
    "    print(f\"    Confidence Interval for Median is {ci_median}\")"
   ]
  },
  {
   "cell_type": "markdown",
   "id": "cfcaea5c",
   "metadata": {},
   "source": [
    "Moving on...\n",
    "- Gender has 2 possible values, so it must follow binomial distribution\n",
    "- Education, marital status and all the Previous payment columns have 5 ,3 and 9 values respectively. So, they must be following multinomial distributions.\n",
    "- Age is a discrete variable, but it is not categorical, so it might be following a normal or a skewed distribution.    "
   ]
  },
  {
   "cell_type": "code",
   "execution_count": 17,
   "id": "a86e4f94",
   "metadata": {},
   "outputs": [
    {
     "name": "stdout",
     "output_type": "stream",
     "text": [
      "Confidence Interval for Mean of AGE is [35.38070349 35.5882837 ]\n",
      "Confidence Interval for Median of AGE is [8.15027286192067, 59.84972713807933]\n"
     ]
    }
   ],
   "source": [
    "ci_mean,ci_median=find_ci('AGE')\n",
    "print(f\"Confidence Interval for Mean of AGE is {ci_mean}\")\n",
    "print(f\"Confidence Interval for Median of AGE is {ci_median}\")"
   ]
  },
  {
   "cell_type": "markdown",
   "id": "f61e4875",
   "metadata": {},
   "source": [
    "##### Hypothesis Testing to find out the factors contributing to Defaults:"
   ]
  },
  {
   "cell_type": "markdown",
   "id": "df88c4ff",
   "metadata": {},
   "source": [
    "We can do some hypothesis testing to see how each of our features are related to our target variable DEF_AMT.  \n",
    "\n",
    "###### Credit Amount Vs Default Status\n",
    "Since it is a continuous variable, we can perform t-test or f-test.  \n",
    "If we find that it has an impact on the target variable, we can perform a correlation test like pearson's correlation coefficient to see how it is correlated.  \n",
    "\n",
    "H0: There is no relationship between Credit Amount(AMT) and the Defautl Status(DEF_AMT)  \n",
    "H1: There is a relationship between Credit Amount(AMT) and the Defautl Status(DEF_AMT)"
   ]
  },
  {
   "cell_type": "code",
   "execution_count": 18,
   "id": "1190fb99",
   "metadata": {},
   "outputs": [
    {
     "name": "stdout",
     "output_type": "stream",
     "text": [
      "Reject the null hypothesis: There is a relationship between AMT and 'DEF_AMT' columns.\n",
      "Reject the null hypothesis: There is a relationship between AMT and 'DEF_AMT' columns.\n"
     ]
    }
   ],
   "source": [
    "# T-test for AMT\n",
    "t_stat, p_value = stats.ttest_ind(df['DEF_AMT'], df['AMT'])\n",
    "alpha = 0.05\n",
    "\n",
    "if p_value < alpha:\n",
    "    print(\"Reject the null hypothesis: There is a relationship between AMT and 'DEF_AMT' columns.\")\n",
    "else:\n",
    "    print(\"Fail to reject the null hypothesis: There is no significant relationship between AMT and 'DEF_AMT' columns.\")\n",
    "\n",
    "# F-test, ANOVA test for AMT\n",
    "f_stat, p_value = stats.f_oneway(df['DEF_AMT'], df['AMT'])\n",
    "\n",
    "if p_value < alpha:\n",
    "    print(\"Reject the null hypothesis: There is a relationship between AMT and 'DEF_AMT' columns.\")\n",
    "else:\n",
    "    print(\"Fail to reject the null hypothesis: There is no significant relationship between AMT and 'DEF_AMT' columns.\")\n"
   ]
  },
  {
   "cell_type": "markdown",
   "id": "0ae40cbd",
   "metadata": {},
   "source": [
    "By both the tests, we see that the default status is impacted by the credit amount. So, let's find the correlation coefficient. using pearson's test."
   ]
  },
  {
   "cell_type": "code",
   "execution_count": 19,
   "id": "b02611f0",
   "metadata": {},
   "outputs": [
    {
     "name": "stdout",
     "output_type": "stream",
     "text": [
      "Pearson's coefficient is: -0.15345487633446744 \n",
      "and the p_value is: 2.0918649396710135e-157\n"
     ]
    }
   ],
   "source": [
    "corr_coef, p_value = stats.pearsonr(df['AMT'], df['DEF_AMT'])\n",
    "\n",
    "print(f\"Pearson's coefficient is: {corr_coef} \\nand the p_value is: {p_value}\")"
   ]
  },
  {
   "cell_type": "markdown",
   "id": "35c29acd",
   "metadata": {},
   "source": [
    "This coefficient indicates a moderate negative correlation between the 'AMT' column and the default status (DEF_AMT). This suggests that higher credit amounts might be associated with a higher probability of default, and vice versa.\n",
    "\n",
    "###### Recommendations:\n",
    "\n",
    "- Implement risk assessment strategies that account for the impact of the credit amount on the likelihood of default. This might involve setting credit limits or adjusting interest rates based on the amount being borrowed to minimize the risk of default.\n",
    "- Provide borrowers with clear information about the potential risks associated with higher credit amounts and the importance of responsible borrowing. This can include financial counseling, educational materials, or interactive tools that help borrowers make informed decisions about the credit amounts they choose to borrow."
   ]
  },
  {
   "cell_type": "markdown",
   "id": "3024ac58",
   "metadata": {},
   "source": [
    "###### Education Level Vs Default Status\n",
    "We can perform a chi square test as this is a categorical variable.   \n",
    "\n",
    "H0: There is no relationship between Education level(EDUCATION) and the Default Status(DEF_AMT)  \n",
    "H1: There is a relationship between Education level(EDUCATION) and the Default Status(DEF_AMT)"
   ]
  },
  {
   "cell_type": "code",
   "execution_count": 20,
   "id": "cba9eabb",
   "metadata": {},
   "outputs": [
    {
     "name": "stdout",
     "output_type": "stream",
     "text": [
      "Reject the null hypothesis. There is a relationship between Education level and the Default Status.\n"
     ]
    }
   ],
   "source": [
    "from scipy.stats import chi2_contingency\n",
    "\n",
    "# Create a contingency table\n",
    "education_def_crosstab = np.array(pd.crosstab(df['EDUCATION'], df['DEF_AMT']))\n",
    "\n",
    "# Perform chi-square test\n",
    "chi2_stat, p_val, dof, ex = chi2_contingency(education_def_crosstab, correction=False)\n",
    "\n",
    "# Set significance level\n",
    "alpha = 0.05\n",
    "\n",
    "# Print results\n",
    "if p_val < alpha:\n",
    "    print(\"Reject the null hypothesis. There is a relationship between Education level and the Default Status.\")\n",
    "else:\n",
    "    print(\"Fail to reject the null hypothesis. There is no relationship between Education level and the Default Status.\")"
   ]
  },
  {
   "cell_type": "markdown",
   "id": "77da583f",
   "metadata": {},
   "source": [
    "Since there is a relationship between education level and default status, we can find Cramer's V value to find out the association between the both.  \n",
    "Cramer’s V is a measure of the strength of association between two nominal variables.\n",
    "\n",
    "It ranges from 0 to 1 where:\n",
    "\n",
    "- 0 indicates no association between the two variables.\n",
    "- 1 indicates a perfect association between the two variables.  \n",
    "\n",
    "It is calculated as:\n",
    "\n",
    "Cramer’s V = √(X2/n) / min(c-1, r-1)  \n",
    "where:\n",
    "\n",
    "X2: The Chi-square statistic\n",
    "n: Total sample size\n",
    "r: Number of rows\n",
    "c: Number of columns"
   ]
  },
  {
   "cell_type": "code",
   "execution_count": 21,
   "id": "c1e0c8f4",
   "metadata": {},
   "outputs": [
    {
     "name": "stdout",
     "output_type": "stream",
     "text": [
      "0.07236777276172048\n"
     ]
    }
   ],
   "source": [
    "N = np.sum(education_def_crosstab)\n",
    "minimum_dimension = min(education_def_crosstab.shape)-1\n",
    "  \n",
    "# Calculate Cramer's V \n",
    "result = np.sqrt((chi2_stat/N) / minimum_dimension) \n",
    "\n",
    "print(result)"
   ]
  },
  {
   "cell_type": "markdown",
   "id": "23431426",
   "metadata": {},
   "source": [
    "The Cramer's V of 0.07 suggests a weak association between the variables education level and default status suggesting that education alone may not be a significant predictor of default status.\n",
    "\n",
    "###### Recommendations:\n",
    "- Further data maybe collected to explore additional variables that may have a more significant impact on default status. This could involve investigating the influence of factors such as income levels, employment status, or financial literacy on the relationship between education and default status.\n",
    "- Develop targeted educational resources or financial assistance programs for borrowers with different educational backgrounds. These resources can help borrowers better understand their financial obligations, improve their financial management skills, and mitigate the risks associated with default."
   ]
  },
  {
   "cell_type": "markdown",
   "id": "02a83bdb",
   "metadata": {},
   "source": [
    "###### Marital Status Vs Default Status\n",
    "Since 'MARITAL STATUS' is also a similar nominal variable, we can use chi square test to find it's relationship with default status.  \n",
    "\n",
    "H0: There is no relationship between Marital Status (MARITAL STATUS) and the Default Status (DEF_AMT).  \n",
    "H1: There is a relationship between Marital Status (MARITAL STATUS) and the Default Status (DEF_AMT)."
   ]
  },
  {
   "cell_type": "code",
   "execution_count": 22,
   "id": "0e879a68",
   "metadata": {},
   "outputs": [
    {
     "name": "stdout",
     "output_type": "stream",
     "text": [
      "Reject the null hypothesis. There is a relationship between marital status and the Default Status.\n"
     ]
    }
   ],
   "source": [
    "# Create a contingency table\n",
    "maritalstatus_def_crosstab = np.array(pd.crosstab(df['MARITAL STATUS'], df['DEF_AMT']))\n",
    "\n",
    "# Perform chi-square test\n",
    "chi2_stat, p_val, dof, ex = chi2_contingency(maritalstatus_def_crosstab, correction=False)\n",
    "\n",
    "# Set significance level\n",
    "alpha = 0.05\n",
    "\n",
    "# Print results\n",
    "if p_val < alpha:\n",
    "    print(\"Reject the null hypothesis. There is a relationship between marital status and the Default Status.\")\n",
    "else:\n",
    "    print(\"Fail to reject the null hypothesis. There is no relationship between marital status and the Default Status.\")"
   ]
  },
  {
   "cell_type": "markdown",
   "id": "fd75023e",
   "metadata": {},
   "source": [
    "Let us find the Cramer's V to find the strength of the association."
   ]
  },
  {
   "cell_type": "code",
   "execution_count": 23,
   "id": "3a9950ff",
   "metadata": {},
   "outputs": [
    {
     "name": "stdout",
     "output_type": "stream",
     "text": [
      "0.03127184749698647\n"
     ]
    }
   ],
   "source": [
    "N = np.sum(education_def_crosstab)\n",
    "minimum_dimension = min(maritalstatus_def_crosstab.shape)-1\n",
    "  \n",
    "# Calculate Cramer's V \n",
    "result = np.sqrt((chi2_stat/N) / minimum_dimension) \n",
    "\n",
    "print(result)"
   ]
  },
  {
   "cell_type": "markdown",
   "id": "288b8ced",
   "metadata": {},
   "source": [
    "Cramer's V of 0.03 suggests an even weaker association of marital status with the default status.\n",
    "\n",
    "###### Recommendations:\n",
    "- Consider incorporating other variables such as debt-to-income ratios, employment stability, or other financial obligations  which may have a more substantial impact on default status than marital status.\n",
    "- Develop personalized financial counseling or assistance programs that cater to borrowers with different marital statuses. These programs can help individuals better manage their financial responsibilities, enhance their financial literacy, and reduce the likelihood of default."
   ]
  },
  {
   "cell_type": "markdown",
   "id": "6b43c133",
   "metadata": {},
   "source": [
    "###### Age Vs Default Status\n",
    "Moving on to the relationship between Age and default status.  We can use point biserial correlation coefficient to find out the relationship between these as Age is a continuous variable and default status is binary in nature.   \n",
    "\n",
    "Point-biserial correlation is used to measure the relationship between a binary variable, x, and a continuous variable, y.\n",
    "\n",
    "H0: There is no relationship between AGE and DEF_AMT.  \n",
    "H1: There is a relationship between AGE and DEF_AMT"
   ]
  },
  {
   "cell_type": "code",
   "execution_count": 24,
   "id": "1ca79433",
   "metadata": {},
   "outputs": [
    {
     "name": "stdout",
     "output_type": "stream",
     "text": [
      "Point-biserial correlation coefficient: 0.0140\n",
      "P-value: 0.0155\n",
      "Reject the null hypothesis. There is a relationship between AGE and DEF_AMT.\n"
     ]
    }
   ],
   "source": [
    "from scipy.stats import pointbiserialr\n",
    "\n",
    "# Assuming df is your DataFrame containing the 'AGE' and 'DEF_AMT' columns\n",
    "age = df['AGE']\n",
    "def_amt = df['DEF_AMT']\n",
    "\n",
    "# Calculate point-biserial correlation coefficient and associated p-value\n",
    "pb_corr, pb_p_value = pointbiserialr(age, def_amt)\n",
    "\n",
    "print(f\"Point-biserial correlation coefficient: {pb_corr:.4f}\")\n",
    "print(f\"P-value: {pb_p_value:.4f}\")\n",
    "\n",
    "# Compare the p-value with the significance level (0.05) to draw conclusions about the null hypothesis\n",
    "if pb_p_value < 0.05:\n",
    "    print(\"Reject the null hypothesis. There is a relationship between AGE and DEF_AMT.\")\n",
    "else:\n",
    "    print(\"Fail to reject the null hypothesis. There is no relationship between AGE and DEF_AMT.\")\n"
   ]
  },
  {
   "cell_type": "markdown",
   "id": "8489e2e2",
   "metadata": {},
   "source": [
    "From the above statistics, there is a very slight tendency for certain age groups to have a slightly higher or lower likelihood of default compared to others.  \n",
    "\n",
    "Let us try making age groups and use chi square test to see if that has a stronger relationship with default status."
   ]
  },
  {
   "cell_type": "code",
   "execution_count": 25,
   "id": "6ab3a0d6",
   "metadata": {},
   "outputs": [],
   "source": [
    "bins = [21,25,30,35,40,45,50,60,70,80]\n",
    "labels = ['21-24', '25-29', '30-34', '35-39', '40-44', '45-49', '50-59','60-69', '70-79']\n",
    "df['AGE_BIN'] = pd.cut(df['AGE'], bins=bins, labels=labels, right=False)"
   ]
  },
  {
   "cell_type": "markdown",
   "id": "a8b1c5ce",
   "metadata": {},
   "source": [
    "H0: There is no relationship between Age group and DEF_AMT.  \n",
    "H1: There is a relationship between Age group and DEF_AMT"
   ]
  },
  {
   "cell_type": "code",
   "execution_count": 26,
   "id": "0b71a15c",
   "metadata": {},
   "outputs": [
    {
     "name": "stdout",
     "output_type": "stream",
     "text": [
      "Reject the null hypothesis. There is a relationship between age group and the Default Status.\n"
     ]
    }
   ],
   "source": [
    "# Create a contingency table\n",
    "agebin_def_crosstab = np.array(pd.crosstab(df['AGE_BIN'], df['DEF_AMT']))\n",
    "\n",
    "# Perform chi-square test\n",
    "chi2_stat, p_val, dof, ex = chi2_contingency(agebin_def_crosstab, correction=False)\n",
    "\n",
    "# Set significance level\n",
    "alpha = 0.05\n",
    "\n",
    "# Print results\n",
    "if p_val < alpha:\n",
    "    print(\"Reject the null hypothesis. There is a relationship between age group and the Default Status.\")\n",
    "else:\n",
    "    print(\"Fail to reject the null hypothesis. There is no relationship between age group and the Default Status.\")"
   ]
  },
  {
   "cell_type": "markdown",
   "id": "f5ca033a",
   "metadata": {},
   "source": [
    "Let's find Cramer's V to see the strength of association."
   ]
  },
  {
   "cell_type": "code",
   "execution_count": 27,
   "id": "5a4ab456",
   "metadata": {},
   "outputs": [
    {
     "name": "stdout",
     "output_type": "stream",
     "text": [
      "0.05622536123886799\n"
     ]
    }
   ],
   "source": [
    "N = np.sum(agebin_def_crosstab)\n",
    "minimum_dimension = min(agebin_def_crosstab.shape)-1\n",
    "  \n",
    "# Calculate Cramer's V \n",
    "result = np.sqrt((chi2_stat/N) / minimum_dimension) \n",
    "\n",
    "print(result)"
   ]
  },
  {
   "cell_type": "markdown",
   "id": "2fb5a054",
   "metadata": {},
   "source": [
    "This Cramer's V indicates a small effect size, indicating a minimal association between age groups and the likelihood of default.  \n",
    "\n",
    "###### Recommendations:\n",
    "- While the correlation indicates only a slight relationship between age and default status, it is still important to consider this factor while assessing credit risk. We might adjust risk models or credit scoring algorithms to account for this slight influence of age on default probability.\n",
    "- Conduct further data collection and analysis to identify any specific trends or patterns within different age groups that might contribute to default. This could involve segmenting the data by age and conducting more targeted research or surveys to understand the unique financial needs and behaviors of different age groups.\n",
    "- Implement targeted financial education or advisory programs focusing on improving financial literacy and promoting responsible financial practices to mitigate the risk of default."
   ]
  },
  {
   "cell_type": "markdown",
   "id": "e8e5ccc1",
   "metadata": {},
   "source": [
    "Let us understand the relationship of REPAY columns on the default status. Since they are ordinal in nature, we can use chi square test."
   ]
  },
  {
   "cell_type": "code",
   "execution_count": 28,
   "id": "a313571e",
   "metadata": {},
   "outputs": [
    {
     "name": "stdout",
     "output_type": "stream",
     "text": [
      "Pearson Correlation for REPAY_SEP: 0.39602895602513627, p-value: 0.0\n",
      "\n",
      "    Reject the null hypothesis. There is a relationship between REPAY_SEP and the Default Status.\n",
      "\n",
      "Pearson Correlation for REPAY_AUG: 0.32702760135165937, p-value: 0.0\n",
      "\n",
      "    Reject the null hypothesis. There is a relationship between REPAY_AUG and the Default Status.\n",
      "\n",
      "Pearson Correlation for REPAY_JUL: 0.2869988924946127, p-value: 0.0\n",
      "\n",
      "    Reject the null hypothesis. There is a relationship between REPAY_JUL and the Default Status.\n",
      "\n",
      "Pearson Correlation for REPAY_JUN: 0.26906560373831706, p-value: 0.0\n",
      "\n",
      "    Reject the null hypothesis. There is a relationship between REPAY_JUN and the Default Status.\n",
      "\n",
      "Pearson Correlation for REPAY_MAY: 0.2607965889979629, p-value: 0.0\n",
      "\n",
      "    Reject the null hypothesis. There is a relationship between REPAY_MAY and the Default Status.\n",
      "\n",
      "Pearson Correlation for REPAY_APR: 0.24438040380876147, p-value: 0.0\n",
      "\n",
      "    Reject the null hypothesis. There is a relationship between REPAY_APR and the Default Status.\n",
      "\n"
     ]
    }
   ],
   "source": [
    "import scipy.stats as stats\n",
    "\n",
    "# Calculate the correlation coefficients\n",
    "repay_columns = ['REPAY_SEP', 'REPAY_AUG', 'REPAY_JUL', 'REPAY_JUN', 'REPAY_MAY', 'REPAY_APR']\n",
    "for col in repay_columns:\n",
    "    corr, p_val = stats.pearsonr(df[col], df['DEF_AMT'])\n",
    "    print(f\"Pearson Correlation for {col}: {corr}, p-value: {p_val}\")\n",
    "\n",
    "    # Create a cross-tabulation table\n",
    "    cross_tab = pd.crosstab(df['DEF_AMT'], df[col])\n",
    "\n",
    "    # Perform a chi-square test\n",
    "    chi2_stat, p_val, dof, ex = stats.chi2_contingency(cross_tab)\n",
    "    # Print results\n",
    "    if p_val < alpha:\n",
    "        print(f\"\\n    Reject the null hypothesis. There is a relationship between {col} and the Default Status.\\n\")\n",
    "    else:\n",
    "        print(f\"\\n    Fail to reject the null hypothesis. There is no relationship between {col} and the Default Status.\\n\")\n"
   ]
  },
  {
   "cell_type": "markdown",
   "id": "de67d8ea",
   "metadata": {},
   "source": [
    "From the above correlation values, we can see that all the Repay columns do have moderate impacts on the default status.   \n",
    "\n",
    "###### Recommendations:\n",
    "- Focus on customers with a higher REPAY values, as they are more likely to default on their credit card payments. Implement targeted interventions, such as personalized reminders or flexible payment options, to reduce the risk of default among these customers.\n",
    "- Identify any underlying patterns or reasons behind late or missed payments, which may shed light on potential risk factors for default."
   ]
  },
  {
   "cell_type": "markdown",
   "id": "fd9da535",
   "metadata": {},
   "source": [
    "The remaining columns of amount bills and previous month payments are all continuous in nature, so we can group them all together and observe how they relate to the default status.  \n",
    "Let us use a point biserial correlation coefficient to understand this."
   ]
  },
  {
   "cell_type": "code",
   "execution_count": 29,
   "id": "63543a8a",
   "metadata": {},
   "outputs": [
    {
     "name": "stdout",
     "output_type": "stream",
     "text": [
      "AMTBILL_SEP\n",
      "  Point-biserial correlation coefficient: -0.0199\n",
      "  P-value: 0.0006\n",
      "Reject the null hypothesis. There is a relationship between AMTBILL_SEP and DEF_AMT.\n",
      "\n",
      "AMTBILL_AUG\n",
      "  Point-biserial correlation coefficient: -0.0144\n",
      "  P-value: 0.0128\n",
      "Reject the null hypothesis. There is a relationship between AMTBILL_AUG and DEF_AMT.\n",
      "\n",
      "AMTBILL_JUL\n",
      "  Point-biserial correlation coefficient: -0.0142\n",
      "  P-value: 0.0139\n",
      "Reject the null hypothesis. There is a relationship between AMTBILL_JUL and DEF_AMT.\n",
      "\n",
      "AMTBILL_JUN\n",
      "  Point-biserial correlation coefficient: -0.0103\n",
      "  P-value: 0.0733\n",
      "Fail to reject the null hypothesis. There is no relationship between AMTBILL_JUN and DEF_AMT.\n",
      "\n",
      "AMTBILL_MAY\n",
      "  Point-biserial correlation coefficient: -0.0069\n",
      "  P-value: 0.2308\n",
      "Fail to reject the null hypothesis. There is no relationship between AMTBILL_MAY and DEF_AMT.\n",
      "\n",
      "AMTBILL_APR\n",
      "  Point-biserial correlation coefficient: -0.0057\n",
      "  P-value: 0.3230\n",
      "Fail to reject the null hypothesis. There is no relationship between AMTBILL_APR and DEF_AMT.\n",
      "\n",
      "PRE_SEP\n",
      "  Point-biserial correlation coefficient: -0.0729\n",
      "  P-value: 0.0000\n",
      "Reject the null hypothesis. There is a relationship between PRE_SEP and DEF_AMT.\n",
      "\n",
      "PRE_AUG\n",
      "  Point-biserial correlation coefficient: -0.0585\n",
      "  P-value: 0.0000\n",
      "Reject the null hypothesis. There is a relationship between PRE_AUG and DEF_AMT.\n",
      "\n",
      "PRE_JUL\n",
      "  Point-biserial correlation coefficient: -0.0562\n",
      "  P-value: 0.0000\n",
      "Reject the null hypothesis. There is a relationship between PRE_JUL and DEF_AMT.\n",
      "\n",
      "PRE_JUN\n",
      "  Point-biserial correlation coefficient: -0.0569\n",
      "  P-value: 0.0000\n",
      "Reject the null hypothesis. There is a relationship between PRE_JUN and DEF_AMT.\n",
      "\n",
      "PRE_MAY\n",
      "  Point-biserial correlation coefficient: -0.0552\n",
      "  P-value: 0.0000\n",
      "Reject the null hypothesis. There is a relationship between PRE_MAY and DEF_AMT.\n",
      "\n",
      "PRE_APR\n",
      "  Point-biserial correlation coefficient: -0.0532\n",
      "  P-value: 0.0000\n",
      "Reject the null hypothesis. There is a relationship between PRE_APR and DEF_AMT.\n",
      "\n"
     ]
    }
   ],
   "source": [
    "amtbills_prepayments=['AMTBILL_SEP', 'AMTBILL_AUG', 'AMTBILL_JUL', 'AMTBILL_JUN',\n",
    "       'AMTBILL_MAY', 'AMTBILL_APR', 'PRE_SEP', 'PRE_AUG', 'PRE_JUL',\n",
    "       'PRE_JUN', 'PRE_MAY', 'PRE_APR']\n",
    "for col in amtbills_prepayments:\n",
    "    \n",
    "\n",
    "    # Calculate point-biserial correlation coefficient and associated p-value\n",
    "    pb_corr, pb_p_value = pointbiserialr(df[col], df['DEF_AMT'])\n",
    "    print(col)\n",
    "    print(f\"  Point-biserial correlation coefficient: {pb_corr:.4f}\")\n",
    "    print(f\"  P-value: {pb_p_value:.4f}\")\n",
    "\n",
    "    # Compare the p-value with the significance level (0.05) to draw conclusions about the null hypothesis\n",
    "    if pb_p_value < 0.05:\n",
    "        print(f\"Reject the null hypothesis. There is a relationship between {col} and DEF_AMT.\\n\")\n",
    "    else:\n",
    "        print(f\"Fail to reject the null hypothesis. There is no relationship between {col} and DEF_AMT.\\n\")\n"
   ]
  },
  {
   "cell_type": "markdown",
   "id": "8f84a634",
   "metadata": {},
   "source": [
    "From the above statistics:\n",
    "\n",
    "- AMTBILL_SEP, AMTBILL_AUG, and AMTBILL_JUL have a weak negative correlation with the default status (DEF_AMT). This suggests that higher bill amounts in these months are associated with a slightly higher likelihood of default.\n",
    "- For the AMTBILL_JUN, AMTBILL_MAY, and AMTBILL_APR columns, there is no significant relationship with the default status.\n",
    "- PRE_SEP, PRE_AUG, PRE_JUL, PRE_JUN, PRE_MAY, and PRE_APR all might have a weak negative correlation with the default status (DEF_AMT). This implies that higher previous payments are associated with a slightly lower likelihood of default.\n",
    "\n",
    "###### Recommendations:\n",
    "- To mitigate default risk, focus on understanding the factors leading to higher bill amounts in September, August, and July. This might involve offering tailored payment plans or financial counseling services to customers with higher bill amounts during these months.\n",
    "- Encourage timely payments by implementing reminders and incentives for customers, especially in the months of June, May, and April, where the correlation indicates no strong relationship between bill amounts and default status.\n",
    "- Offer financial planning and education to help customers manage their finances better, especially those who consistently make high previous payments. This could help prevent the likelihood of default in the future."
   ]
  },
  {
   "cell_type": "markdown",
   "id": "642c66d4",
   "metadata": {},
   "source": [
    "#### In conclusion implement comprehensive credit risk assessment models that take into account various financial and personal factors to improve the accuracy of credit risk evaluations and minimize the risks associated with lending. This can help financial institutions make more informed decisions and develop effective risk mitigation strategies."
   ]
  },
  {
   "cell_type": "markdown",
   "id": "1eb5d5ee",
   "metadata": {},
   "source": [
    "### Feature Engineering:\n",
    "\n",
    "- ID: We can drop this column.\n",
    "- AMT: We can create bins to group customers based on their credit limits.\n",
    "- Gender, Education and Marital Status are already in numerical form, so these can be readily used for model building.\n",
    "- AGE: We already created bins of ages, this should give us a better understanding of how a specific age group customers behave.\n",
    "- REPAY columns: We can create a feature representing the average delay in payment across these months.\n",
    "- AMTBILL columns: We can create new features like the difference between consecutive months' bill amounts to represent the change in bill amounts over time.\n",
    "- PRE payment columns: Similar to the bill amounts, we can create new features that represent the change in payments over time or the ratio of the payment to the bill amount."
   ]
  },
  {
   "cell_type": "code",
   "execution_count": 30,
   "id": "ab737096",
   "metadata": {},
   "outputs": [],
   "source": [
    "df=df.drop('ID', axis=1)\n",
    "# Create bins for AMT column\n",
    "df['AMT_BIN'] = pd.cut(df.AMT, bins=[9999, 100000, 300000, 500000, 700000, 1000000],\n",
    "                      labels=['10k-100k', '100k-300k', '300k-500k', '500k-700k', '700k-1000k'])\n",
    "\n",
    "# Calculate average delay in payment across months for REPAY columns\n",
    "repay_columns = ['REPAY_SEP', 'REPAY_AUG', 'REPAY_JUL', 'REPAY_JUN', 'REPAY_MAY', 'REPAY_APR']\n",
    "df['AVG_DELAY'] = df[repay_columns].mean(axis=1)\n",
    "\n",
    "# Calculate the difference between consecutive months' bill amounts for AMTBILL columns\n",
    "bill_columns = ['AMTBILL_SEP', 'AMTBILL_AUG', 'AMTBILL_JUL', 'AMTBILL_JUN', 'AMTBILL_MAY', 'AMTBILL_APR']\n",
    "df['AVG_BILLAMT'] = df[bill_columns].mean(axis=1)\n",
    "\n",
    "# Calculate the change in payments over time for PRE payment columns\n",
    "pre_columns = ['PRE_SEP', 'PRE_AUG', 'PRE_JUL', 'PRE_JUN', 'PRE_MAY', 'PRE_APR']\n",
    "df['AVG_PREPAY'] = df[pre_columns].mean(axis=1)\n"
   ]
  },
  {
   "cell_type": "code",
   "execution_count": 31,
   "id": "757a4837",
   "metadata": {},
   "outputs": [
    {
     "data": {
      "text/html": [
       "<div>\n",
       "<style scoped>\n",
       "    .dataframe tbody tr th:only-of-type {\n",
       "        vertical-align: middle;\n",
       "    }\n",
       "\n",
       "    .dataframe tbody tr th {\n",
       "        vertical-align: top;\n",
       "    }\n",
       "\n",
       "    .dataframe thead th {\n",
       "        text-align: right;\n",
       "    }\n",
       "</style>\n",
       "<table border=\"1\" class=\"dataframe\">\n",
       "  <thead>\n",
       "    <tr style=\"text-align: right;\">\n",
       "      <th></th>\n",
       "      <th>AMT</th>\n",
       "      <th>GENDER</th>\n",
       "      <th>EDUCATION</th>\n",
       "      <th>MARITAL STATUS</th>\n",
       "      <th>AGE</th>\n",
       "      <th>REPAY_SEP</th>\n",
       "      <th>REPAY_AUG</th>\n",
       "      <th>REPAY_JUL</th>\n",
       "      <th>REPAY_JUN</th>\n",
       "      <th>REPAY_MAY</th>\n",
       "      <th>REPAY_APR</th>\n",
       "      <th>AMTBILL_SEP</th>\n",
       "      <th>AMTBILL_AUG</th>\n",
       "      <th>AMTBILL_JUL</th>\n",
       "      <th>AMTBILL_JUN</th>\n",
       "      <th>AMTBILL_MAY</th>\n",
       "      <th>AMTBILL_APR</th>\n",
       "      <th>PRE_SEP</th>\n",
       "      <th>PRE_AUG</th>\n",
       "      <th>PRE_JUL</th>\n",
       "      <th>PRE_JUN</th>\n",
       "      <th>PRE_MAY</th>\n",
       "      <th>PRE_APR</th>\n",
       "      <th>DEF_AMT</th>\n",
       "      <th>AGE_BIN</th>\n",
       "      <th>AMT_BIN</th>\n",
       "      <th>AVG_DELAY</th>\n",
       "      <th>AVG_BILLAMT</th>\n",
       "      <th>AVG_PREPAY</th>\n",
       "    </tr>\n",
       "  </thead>\n",
       "  <tbody>\n",
       "    <tr>\n",
       "      <th>0</th>\n",
       "      <td>20000.0</td>\n",
       "      <td>2</td>\n",
       "      <td>2.0</td>\n",
       "      <td>1</td>\n",
       "      <td>24</td>\n",
       "      <td>2</td>\n",
       "      <td>2</td>\n",
       "      <td>0</td>\n",
       "      <td>0</td>\n",
       "      <td>0</td>\n",
       "      <td>0</td>\n",
       "      <td>3913.0</td>\n",
       "      <td>3102.0</td>\n",
       "      <td>689.0</td>\n",
       "      <td>0.0</td>\n",
       "      <td>0.0</td>\n",
       "      <td>0.0</td>\n",
       "      <td>0.0</td>\n",
       "      <td>689.0</td>\n",
       "      <td>0.0</td>\n",
       "      <td>0.0</td>\n",
       "      <td>0.0</td>\n",
       "      <td>0.0</td>\n",
       "      <td>1</td>\n",
       "      <td>21-24</td>\n",
       "      <td>10k-100k</td>\n",
       "      <td>0.666667</td>\n",
       "      <td>1284.000000</td>\n",
       "      <td>114.833333</td>\n",
       "    </tr>\n",
       "    <tr>\n",
       "      <th>1</th>\n",
       "      <td>120000.0</td>\n",
       "      <td>2</td>\n",
       "      <td>2.0</td>\n",
       "      <td>2</td>\n",
       "      <td>26</td>\n",
       "      <td>0</td>\n",
       "      <td>2</td>\n",
       "      <td>0</td>\n",
       "      <td>0</td>\n",
       "      <td>0</td>\n",
       "      <td>2</td>\n",
       "      <td>2682.0</td>\n",
       "      <td>1725.0</td>\n",
       "      <td>2682.0</td>\n",
       "      <td>3272.0</td>\n",
       "      <td>3455.0</td>\n",
       "      <td>3261.0</td>\n",
       "      <td>0.0</td>\n",
       "      <td>1000.0</td>\n",
       "      <td>1000.0</td>\n",
       "      <td>1000.0</td>\n",
       "      <td>0.0</td>\n",
       "      <td>2000.0</td>\n",
       "      <td>1</td>\n",
       "      <td>25-29</td>\n",
       "      <td>100k-300k</td>\n",
       "      <td>0.666667</td>\n",
       "      <td>2846.166667</td>\n",
       "      <td>833.333333</td>\n",
       "    </tr>\n",
       "    <tr>\n",
       "      <th>2</th>\n",
       "      <td>90000.0</td>\n",
       "      <td>2</td>\n",
       "      <td>2.0</td>\n",
       "      <td>2</td>\n",
       "      <td>34</td>\n",
       "      <td>0</td>\n",
       "      <td>0</td>\n",
       "      <td>0</td>\n",
       "      <td>0</td>\n",
       "      <td>0</td>\n",
       "      <td>0</td>\n",
       "      <td>29239.0</td>\n",
       "      <td>14027.0</td>\n",
       "      <td>13559.0</td>\n",
       "      <td>14331.0</td>\n",
       "      <td>14948.0</td>\n",
       "      <td>15549.0</td>\n",
       "      <td>1518.0</td>\n",
       "      <td>1500.0</td>\n",
       "      <td>1000.0</td>\n",
       "      <td>1000.0</td>\n",
       "      <td>1000.0</td>\n",
       "      <td>5000.0</td>\n",
       "      <td>0</td>\n",
       "      <td>30-34</td>\n",
       "      <td>10k-100k</td>\n",
       "      <td>0.000000</td>\n",
       "      <td>16942.166667</td>\n",
       "      <td>1836.333333</td>\n",
       "    </tr>\n",
       "    <tr>\n",
       "      <th>3</th>\n",
       "      <td>50000.0</td>\n",
       "      <td>2</td>\n",
       "      <td>2.0</td>\n",
       "      <td>1</td>\n",
       "      <td>37</td>\n",
       "      <td>0</td>\n",
       "      <td>0</td>\n",
       "      <td>0</td>\n",
       "      <td>0</td>\n",
       "      <td>0</td>\n",
       "      <td>0</td>\n",
       "      <td>46990.0</td>\n",
       "      <td>48233.0</td>\n",
       "      <td>49291.0</td>\n",
       "      <td>28314.0</td>\n",
       "      <td>28959.0</td>\n",
       "      <td>29547.0</td>\n",
       "      <td>2000.0</td>\n",
       "      <td>2019.0</td>\n",
       "      <td>1200.0</td>\n",
       "      <td>1100.0</td>\n",
       "      <td>1069.0</td>\n",
       "      <td>1000.0</td>\n",
       "      <td>0</td>\n",
       "      <td>35-39</td>\n",
       "      <td>10k-100k</td>\n",
       "      <td>0.000000</td>\n",
       "      <td>38555.666667</td>\n",
       "      <td>1398.000000</td>\n",
       "    </tr>\n",
       "    <tr>\n",
       "      <th>4</th>\n",
       "      <td>50000.0</td>\n",
       "      <td>1</td>\n",
       "      <td>2.0</td>\n",
       "      <td>1</td>\n",
       "      <td>57</td>\n",
       "      <td>0</td>\n",
       "      <td>0</td>\n",
       "      <td>0</td>\n",
       "      <td>0</td>\n",
       "      <td>0</td>\n",
       "      <td>0</td>\n",
       "      <td>8617.0</td>\n",
       "      <td>5670.0</td>\n",
       "      <td>35835.0</td>\n",
       "      <td>20940.0</td>\n",
       "      <td>19146.0</td>\n",
       "      <td>19131.0</td>\n",
       "      <td>2000.0</td>\n",
       "      <td>36681.0</td>\n",
       "      <td>10000.0</td>\n",
       "      <td>9000.0</td>\n",
       "      <td>689.0</td>\n",
       "      <td>679.0</td>\n",
       "      <td>0</td>\n",
       "      <td>50-59</td>\n",
       "      <td>10k-100k</td>\n",
       "      <td>0.000000</td>\n",
       "      <td>18223.166667</td>\n",
       "      <td>9841.500000</td>\n",
       "    </tr>\n",
       "  </tbody>\n",
       "</table>\n",
       "</div>"
      ],
      "text/plain": [
       "        AMT  GENDER  EDUCATION  MARITAL STATUS  AGE  REPAY_SEP  REPAY_AUG  \\\n",
       "0   20000.0       2        2.0               1   24          2          2   \n",
       "1  120000.0       2        2.0               2   26          0          2   \n",
       "2   90000.0       2        2.0               2   34          0          0   \n",
       "3   50000.0       2        2.0               1   37          0          0   \n",
       "4   50000.0       1        2.0               1   57          0          0   \n",
       "\n",
       "   REPAY_JUL  REPAY_JUN  REPAY_MAY  REPAY_APR  AMTBILL_SEP  AMTBILL_AUG  \\\n",
       "0          0          0          0          0       3913.0       3102.0   \n",
       "1          0          0          0          2       2682.0       1725.0   \n",
       "2          0          0          0          0      29239.0      14027.0   \n",
       "3          0          0          0          0      46990.0      48233.0   \n",
       "4          0          0          0          0       8617.0       5670.0   \n",
       "\n",
       "   AMTBILL_JUL  AMTBILL_JUN  AMTBILL_MAY  AMTBILL_APR  PRE_SEP  PRE_AUG  \\\n",
       "0        689.0          0.0          0.0          0.0      0.0    689.0   \n",
       "1       2682.0       3272.0       3455.0       3261.0      0.0   1000.0   \n",
       "2      13559.0      14331.0      14948.0      15549.0   1518.0   1500.0   \n",
       "3      49291.0      28314.0      28959.0      29547.0   2000.0   2019.0   \n",
       "4      35835.0      20940.0      19146.0      19131.0   2000.0  36681.0   \n",
       "\n",
       "   PRE_JUL  PRE_JUN  PRE_MAY  PRE_APR  DEF_AMT AGE_BIN    AMT_BIN  AVG_DELAY  \\\n",
       "0      0.0      0.0      0.0      0.0        1   21-24   10k-100k   0.666667   \n",
       "1   1000.0   1000.0      0.0   2000.0        1   25-29  100k-300k   0.666667   \n",
       "2   1000.0   1000.0   1000.0   5000.0        0   30-34   10k-100k   0.000000   \n",
       "3   1200.0   1100.0   1069.0   1000.0        0   35-39   10k-100k   0.000000   \n",
       "4  10000.0   9000.0    689.0    679.0        0   50-59   10k-100k   0.000000   \n",
       "\n",
       "    AVG_BILLAMT   AVG_PREPAY  \n",
       "0   1284.000000   114.833333  \n",
       "1   2846.166667   833.333333  \n",
       "2  16942.166667  1836.333333  \n",
       "3  38555.666667  1398.000000  \n",
       "4  18223.166667  9841.500000  "
      ]
     },
     "execution_count": 31,
     "metadata": {},
     "output_type": "execute_result"
    }
   ],
   "source": [
    "df.head()"
   ]
  },
  {
   "cell_type": "code",
   "execution_count": 32,
   "id": "411805c8",
   "metadata": {},
   "outputs": [],
   "source": [
    "# Converting AGE_BIN and AMT_BIN to numerical\n",
    "\n",
    "df['AGE_BIN'] = df['AGE_BIN'].map({'21-24': 1, '25-29': 2, '30-34': 3, '35-39': 4, '40-44': 5, '45-49': 6, '50-59': 7, '60-69': 8, '70-79': 9}\n",
    ")\n",
    "df['AMT_BIN'] = df['AMT_BIN'].map({'10k-100k': 1, '100k-300k': 2, '300k-500k': 3, '500k-700k': 4, '700k-1000k': 5}\n",
    ")\n",
    "\n",
    "df['AGE_BIN']=df['AGE_BIN'].astype(int)\n",
    "df['AMT_BIN']=df['AMT_BIN'].astype(int)"
   ]
  },
  {
   "cell_type": "code",
   "execution_count": 33,
   "id": "b8157a5e",
   "metadata": {},
   "outputs": [
    {
     "data": {
      "text/html": [
       "<div>\n",
       "<style scoped>\n",
       "    .dataframe tbody tr th:only-of-type {\n",
       "        vertical-align: middle;\n",
       "    }\n",
       "\n",
       "    .dataframe tbody tr th {\n",
       "        vertical-align: top;\n",
       "    }\n",
       "\n",
       "    .dataframe thead th {\n",
       "        text-align: right;\n",
       "    }\n",
       "</style>\n",
       "<table border=\"1\" class=\"dataframe\">\n",
       "  <thead>\n",
       "    <tr style=\"text-align: right;\">\n",
       "      <th></th>\n",
       "      <th>AMT</th>\n",
       "      <th>GENDER</th>\n",
       "      <th>EDUCATION</th>\n",
       "      <th>MARITAL STATUS</th>\n",
       "      <th>AGE</th>\n",
       "      <th>REPAY_SEP</th>\n",
       "      <th>REPAY_AUG</th>\n",
       "      <th>REPAY_JUL</th>\n",
       "      <th>REPAY_JUN</th>\n",
       "      <th>REPAY_MAY</th>\n",
       "      <th>REPAY_APR</th>\n",
       "      <th>AMTBILL_SEP</th>\n",
       "      <th>AMTBILL_AUG</th>\n",
       "      <th>AMTBILL_JUL</th>\n",
       "      <th>AMTBILL_JUN</th>\n",
       "      <th>AMTBILL_MAY</th>\n",
       "      <th>AMTBILL_APR</th>\n",
       "      <th>PRE_SEP</th>\n",
       "      <th>PRE_AUG</th>\n",
       "      <th>PRE_JUL</th>\n",
       "      <th>PRE_JUN</th>\n",
       "      <th>PRE_MAY</th>\n",
       "      <th>PRE_APR</th>\n",
       "      <th>DEF_AMT</th>\n",
       "      <th>AGE_BIN</th>\n",
       "      <th>AMT_BIN</th>\n",
       "      <th>AVG_DELAY</th>\n",
       "      <th>AVG_BILLAMT</th>\n",
       "      <th>AVG_PREPAY</th>\n",
       "    </tr>\n",
       "  </thead>\n",
       "  <tbody>\n",
       "    <tr>\n",
       "      <th>0</th>\n",
       "      <td>20000.0</td>\n",
       "      <td>2</td>\n",
       "      <td>2.0</td>\n",
       "      <td>1</td>\n",
       "      <td>24</td>\n",
       "      <td>2</td>\n",
       "      <td>2</td>\n",
       "      <td>0</td>\n",
       "      <td>0</td>\n",
       "      <td>0</td>\n",
       "      <td>0</td>\n",
       "      <td>3913.0</td>\n",
       "      <td>3102.0</td>\n",
       "      <td>689.0</td>\n",
       "      <td>0.0</td>\n",
       "      <td>0.0</td>\n",
       "      <td>0.0</td>\n",
       "      <td>0.0</td>\n",
       "      <td>689.0</td>\n",
       "      <td>0.0</td>\n",
       "      <td>0.0</td>\n",
       "      <td>0.0</td>\n",
       "      <td>0.0</td>\n",
       "      <td>1</td>\n",
       "      <td>1</td>\n",
       "      <td>1</td>\n",
       "      <td>0.666667</td>\n",
       "      <td>1284.000000</td>\n",
       "      <td>114.833333</td>\n",
       "    </tr>\n",
       "    <tr>\n",
       "      <th>1</th>\n",
       "      <td>120000.0</td>\n",
       "      <td>2</td>\n",
       "      <td>2.0</td>\n",
       "      <td>2</td>\n",
       "      <td>26</td>\n",
       "      <td>0</td>\n",
       "      <td>2</td>\n",
       "      <td>0</td>\n",
       "      <td>0</td>\n",
       "      <td>0</td>\n",
       "      <td>2</td>\n",
       "      <td>2682.0</td>\n",
       "      <td>1725.0</td>\n",
       "      <td>2682.0</td>\n",
       "      <td>3272.0</td>\n",
       "      <td>3455.0</td>\n",
       "      <td>3261.0</td>\n",
       "      <td>0.0</td>\n",
       "      <td>1000.0</td>\n",
       "      <td>1000.0</td>\n",
       "      <td>1000.0</td>\n",
       "      <td>0.0</td>\n",
       "      <td>2000.0</td>\n",
       "      <td>1</td>\n",
       "      <td>2</td>\n",
       "      <td>2</td>\n",
       "      <td>0.666667</td>\n",
       "      <td>2846.166667</td>\n",
       "      <td>833.333333</td>\n",
       "    </tr>\n",
       "    <tr>\n",
       "      <th>2</th>\n",
       "      <td>90000.0</td>\n",
       "      <td>2</td>\n",
       "      <td>2.0</td>\n",
       "      <td>2</td>\n",
       "      <td>34</td>\n",
       "      <td>0</td>\n",
       "      <td>0</td>\n",
       "      <td>0</td>\n",
       "      <td>0</td>\n",
       "      <td>0</td>\n",
       "      <td>0</td>\n",
       "      <td>29239.0</td>\n",
       "      <td>14027.0</td>\n",
       "      <td>13559.0</td>\n",
       "      <td>14331.0</td>\n",
       "      <td>14948.0</td>\n",
       "      <td>15549.0</td>\n",
       "      <td>1518.0</td>\n",
       "      <td>1500.0</td>\n",
       "      <td>1000.0</td>\n",
       "      <td>1000.0</td>\n",
       "      <td>1000.0</td>\n",
       "      <td>5000.0</td>\n",
       "      <td>0</td>\n",
       "      <td>3</td>\n",
       "      <td>1</td>\n",
       "      <td>0.000000</td>\n",
       "      <td>16942.166667</td>\n",
       "      <td>1836.333333</td>\n",
       "    </tr>\n",
       "    <tr>\n",
       "      <th>3</th>\n",
       "      <td>50000.0</td>\n",
       "      <td>2</td>\n",
       "      <td>2.0</td>\n",
       "      <td>1</td>\n",
       "      <td>37</td>\n",
       "      <td>0</td>\n",
       "      <td>0</td>\n",
       "      <td>0</td>\n",
       "      <td>0</td>\n",
       "      <td>0</td>\n",
       "      <td>0</td>\n",
       "      <td>46990.0</td>\n",
       "      <td>48233.0</td>\n",
       "      <td>49291.0</td>\n",
       "      <td>28314.0</td>\n",
       "      <td>28959.0</td>\n",
       "      <td>29547.0</td>\n",
       "      <td>2000.0</td>\n",
       "      <td>2019.0</td>\n",
       "      <td>1200.0</td>\n",
       "      <td>1100.0</td>\n",
       "      <td>1069.0</td>\n",
       "      <td>1000.0</td>\n",
       "      <td>0</td>\n",
       "      <td>4</td>\n",
       "      <td>1</td>\n",
       "      <td>0.000000</td>\n",
       "      <td>38555.666667</td>\n",
       "      <td>1398.000000</td>\n",
       "    </tr>\n",
       "    <tr>\n",
       "      <th>4</th>\n",
       "      <td>50000.0</td>\n",
       "      <td>1</td>\n",
       "      <td>2.0</td>\n",
       "      <td>1</td>\n",
       "      <td>57</td>\n",
       "      <td>0</td>\n",
       "      <td>0</td>\n",
       "      <td>0</td>\n",
       "      <td>0</td>\n",
       "      <td>0</td>\n",
       "      <td>0</td>\n",
       "      <td>8617.0</td>\n",
       "      <td>5670.0</td>\n",
       "      <td>35835.0</td>\n",
       "      <td>20940.0</td>\n",
       "      <td>19146.0</td>\n",
       "      <td>19131.0</td>\n",
       "      <td>2000.0</td>\n",
       "      <td>36681.0</td>\n",
       "      <td>10000.0</td>\n",
       "      <td>9000.0</td>\n",
       "      <td>689.0</td>\n",
       "      <td>679.0</td>\n",
       "      <td>0</td>\n",
       "      <td>7</td>\n",
       "      <td>1</td>\n",
       "      <td>0.000000</td>\n",
       "      <td>18223.166667</td>\n",
       "      <td>9841.500000</td>\n",
       "    </tr>\n",
       "  </tbody>\n",
       "</table>\n",
       "</div>"
      ],
      "text/plain": [
       "        AMT  GENDER  EDUCATION  MARITAL STATUS  AGE  REPAY_SEP  REPAY_AUG  \\\n",
       "0   20000.0       2        2.0               1   24          2          2   \n",
       "1  120000.0       2        2.0               2   26          0          2   \n",
       "2   90000.0       2        2.0               2   34          0          0   \n",
       "3   50000.0       2        2.0               1   37          0          0   \n",
       "4   50000.0       1        2.0               1   57          0          0   \n",
       "\n",
       "   REPAY_JUL  REPAY_JUN  REPAY_MAY  REPAY_APR  AMTBILL_SEP  AMTBILL_AUG  \\\n",
       "0          0          0          0          0       3913.0       3102.0   \n",
       "1          0          0          0          2       2682.0       1725.0   \n",
       "2          0          0          0          0      29239.0      14027.0   \n",
       "3          0          0          0          0      46990.0      48233.0   \n",
       "4          0          0          0          0       8617.0       5670.0   \n",
       "\n",
       "   AMTBILL_JUL  AMTBILL_JUN  AMTBILL_MAY  AMTBILL_APR  PRE_SEP  PRE_AUG  \\\n",
       "0        689.0          0.0          0.0          0.0      0.0    689.0   \n",
       "1       2682.0       3272.0       3455.0       3261.0      0.0   1000.0   \n",
       "2      13559.0      14331.0      14948.0      15549.0   1518.0   1500.0   \n",
       "3      49291.0      28314.0      28959.0      29547.0   2000.0   2019.0   \n",
       "4      35835.0      20940.0      19146.0      19131.0   2000.0  36681.0   \n",
       "\n",
       "   PRE_JUL  PRE_JUN  PRE_MAY  PRE_APR  DEF_AMT  AGE_BIN  AMT_BIN  AVG_DELAY  \\\n",
       "0      0.0      0.0      0.0      0.0        1        1        1   0.666667   \n",
       "1   1000.0   1000.0      0.0   2000.0        1        2        2   0.666667   \n",
       "2   1000.0   1000.0   1000.0   5000.0        0        3        1   0.000000   \n",
       "3   1200.0   1100.0   1069.0   1000.0        0        4        1   0.000000   \n",
       "4  10000.0   9000.0    689.0    679.0        0        7        1   0.000000   \n",
       "\n",
       "    AVG_BILLAMT   AVG_PREPAY  \n",
       "0   1284.000000   114.833333  \n",
       "1   2846.166667   833.333333  \n",
       "2  16942.166667  1836.333333  \n",
       "3  38555.666667  1398.000000  \n",
       "4  18223.166667  9841.500000  "
      ]
     },
     "execution_count": 33,
     "metadata": {},
     "output_type": "execute_result"
    }
   ],
   "source": [
    "df.head()"
   ]
  },
  {
   "cell_type": "markdown",
   "id": "6853186c",
   "metadata": {},
   "source": [
    "Let us see what kind of relationship our engineered columns have with the default status.\n",
    "\n",
    "###### Amount Bins Vs Default Status\n",
    "\n",
    "Since AMT_BIN is similar to AGE_BIN, we can use chi square test to test our hypotheses.  \n",
    "\n",
    "H0: There is no relationship between AMT_BIN and DEF_AMT.  \n",
    "H1: There is a relationship between AMT_BIN and DEF_AMT"
   ]
  },
  {
   "cell_type": "code",
   "execution_count": 34,
   "id": "75678277",
   "metadata": {},
   "outputs": [
    {
     "name": "stdout",
     "output_type": "stream",
     "text": [
      "Reject the null hypothesis. There is a relationship between amount bins and the Default Status.\n"
     ]
    }
   ],
   "source": [
    "# Create a contingency table\n",
    "amtbin_def_crosstab = np.array(pd.crosstab(df['AMT_BIN'], df['DEF_AMT']))\n",
    "\n",
    "# Perform chi-square test\n",
    "chi2_stat, p_val, dof, ex = chi2_contingency(amtbin_def_crosstab, correction=False)\n",
    "\n",
    "# Set significance level\n",
    "alpha = 0.05\n",
    "\n",
    "# Print results\n",
    "if p_val < alpha:\n",
    "    print(\"Reject the null hypothesis. There is a relationship between amount bins and the Default Status.\")\n",
    "else:\n",
    "    print(\"Fail to reject the null hypothesis. There is no relationship between amount bins and the Default Status.\")"
   ]
  },
  {
   "cell_type": "code",
   "execution_count": 35,
   "id": "513bedc6",
   "metadata": {},
   "outputs": [
    {
     "name": "stdout",
     "output_type": "stream",
     "text": [
      "0.15486628993107285\n"
     ]
    }
   ],
   "source": [
    "N = np.sum(amtbin_def_crosstab)\n",
    "minimum_dimension = min(amtbin_def_crosstab.shape)-1\n",
    "  \n",
    "# Calculate Cramer's V \n",
    "result = np.sqrt((chi2_stat/N) / minimum_dimension) \n",
    "\n",
    "print(result)"
   ]
  },
  {
   "cell_type": "markdown",
   "id": "66b582e4",
   "metadata": {},
   "source": [
    "This Cramer's V Value suggests a small effect of amt_bins on the default status. Certain credit ranges could be more susceptible to defaults due to the spending habits or financial stability of the customers falling within those ranges."
   ]
  },
  {
   "cell_type": "markdown",
   "id": "3e85befb",
   "metadata": {},
   "source": [
    "###### Average Delay Vs Default Status\n",
    "\n",
    "Since Average Delay is continuous variable and default status is binary, let us find point biserial coefficient to find out the relationship between them."
   ]
  },
  {
   "cell_type": "code",
   "execution_count": 36,
   "id": "8061446b",
   "metadata": {},
   "outputs": [
    {
     "name": "stdout",
     "output_type": "stream",
     "text": [
      "Point-biserial correlation coefficient: 0.3760\n",
      "P-value: 0.0000\n",
      "Reject the null hypothesis. There is a relationship between Average Delay and DEF_AMT.\n"
     ]
    }
   ],
   "source": [
    "# Calculate point-biserial correlation coefficient and associated p-value\n",
    "pb_corr, pb_p_value = pointbiserialr(df['AVG_DELAY'], df['DEF_AMT'])\n",
    "\n",
    "print(f\"Point-biserial correlation coefficient: {pb_corr:.4f}\")\n",
    "print(f\"P-value: {pb_p_value:.4f}\")\n",
    "\n",
    "# Compare the p-value with the significance level (0.05) to draw conclusions about the null hypothesis\n",
    "if pb_p_value < 0.05:\n",
    "    print(\"Reject the null hypothesis. There is a relationship between Average Delay and DEF_AMT.\")\n",
    "else:\n",
    "    print(\"Fail to reject the null hypothesis. There is no relationship between Average Delay and DEF_AMT.\")"
   ]
  },
  {
   "cell_type": "markdown",
   "id": "bb1dc9a7",
   "metadata": {},
   "source": [
    "The value of the coefficient suggests a moderate relationship between average delay and default status."
   ]
  },
  {
   "cell_type": "markdown",
   "id": "bd00ab2a",
   "metadata": {},
   "source": [
    "###### Average Bill Amount Vs Default Status\n",
    "\n",
    "Similar to Average Delay, we can calculate Point biserial coefficient to find out the relationship between these two features.\n",
    "\n",
    "H0: There is no relationship between Average Bill Amount and DEF_AMT.  \n",
    "H1: There is a relationship between Average Bill Amount and DEF_AMT"
   ]
  },
  {
   "cell_type": "code",
   "execution_count": 37,
   "id": "f1e66fb5",
   "metadata": {},
   "outputs": [
    {
     "name": "stdout",
     "output_type": "stream",
     "text": [
      "Point-biserial correlation coefficient: -0.0129\n",
      "P-value: 0.0254\n",
      "Reject the null hypothesis. There is a relationship between Average Bill Amount and DEF_AMT.\n"
     ]
    }
   ],
   "source": [
    "# Calculate point-biserial correlation coefficient and associated p-value\n",
    "pb_corr, pb_p_value = pointbiserialr(df['AVG_BILLAMT'], df['DEF_AMT'])\n",
    "\n",
    "print(f\"Point-biserial correlation coefficient: {pb_corr:.4f}\")\n",
    "print(f\"P-value: {pb_p_value:.4f}\")\n",
    "\n",
    "# Compare the p-value with the significance level (0.05) to draw conclusions about the null hypothesis\n",
    "if pb_p_value < 0.05:\n",
    "    print(\"Reject the null hypothesis. There is a relationship between Average Bill Amount and DEF_AMT.\")\n",
    "else:\n",
    "    print(\"Fail to reject the null hypothesis. There is no relationship between Average Bill Amount and DEF_AMT.\")"
   ]
  },
  {
   "cell_type": "markdown",
   "id": "f18f9847",
   "metadata": {},
   "source": [
    "The coefficient value indicates a very weak relationship in the negative direction which indicates that as the average bill amount increases, the likelihood of default decreases very slightly.. But this might be more significant when considered along with other features"
   ]
  },
  {
   "cell_type": "markdown",
   "id": "c2cd8331",
   "metadata": {},
   "source": [
    "###### Average Prepay Amount Vs Default Status\n",
    "\n",
    "Similar to Average Delay, we can calculate Point biserial coefficient to find out the relationship between these two features.\n",
    "\n",
    "H0: There is no relationship between Average Previous Month's Payment and DEF_AMT.  \n",
    "H1: There is a relationship between Average Previous Month's Payment and DEF_AMT"
   ]
  },
  {
   "cell_type": "code",
   "execution_count": 38,
   "id": "e65b2b44",
   "metadata": {},
   "outputs": [
    {
     "name": "stdout",
     "output_type": "stream",
     "text": [
      "Point-biserial correlation coefficient: -0.1023\n",
      "P-value: 0.0000\n",
      "Reject the null hypothesis. There is a relationship between Average Previous Month's Payment and DEF_AMT.\n"
     ]
    }
   ],
   "source": [
    "# Calculate point-biserial correlation coefficient and associated p-value\n",
    "pb_corr, pb_p_value = pointbiserialr(df['AVG_PREPAY'], df['DEF_AMT'])\n",
    "\n",
    "print(f\"Point-biserial correlation coefficient: {pb_corr:.4f}\")\n",
    "print(f\"P-value: {pb_p_value:.4f}\")\n",
    "\n",
    "# Compare the p-value with the significance level (0.05) to draw conclusions about the null hypothesis\n",
    "if pb_p_value < 0.05:\n",
    "    print(\"Reject the null hypothesis. There is a relationship between Average Previous Month's Payment and DEF_AMT.\")\n",
    "else:\n",
    "    print(\"Fail to reject the null hypothesis. There is no relationship between Average Previous Month's Payment and DEF_AMT.\")"
   ]
  },
  {
   "cell_type": "markdown",
   "id": "56f2807e",
   "metadata": {},
   "source": [
    "The coefficient value indicates a weak relationship in the negative direction which indicates that as the average previous month's payment increases, the likelihood of default payment decreases slightly.\n",
    "\n",
    "##### Additionally, we can see that the effect of Average Bill Amounts and the Average Previous Month's Payment columns are slightly higher than the individual BILLAMT and PRE payments columns. So, these might give us better results while modelling our ML models.\n",
    "\n",
    "Though most of the features we have seem to have a very weak to weak relationship with our target variable, when put together, they can still do a good job of predicting the default status. That can help us define complex user behavior patterns that doesn't depend on just 1/2 factors but has a boquet of underlying features. This will eventually help us streamline and do targetted reachout to minimize defaults."
   ]
  },
  {
   "cell_type": "markdown",
   "id": "54be2cc2",
   "metadata": {},
   "source": [
    "Let us try to develop some ML models and see if our dataset is able to predict the defaults though our independent variables seem to have weak relationships with the target variable. "
   ]
  },
  {
   "cell_type": "code",
   "execution_count": 39,
   "id": "f17b65be",
   "metadata": {},
   "outputs": [],
   "source": [
    "from sklearn.tree import DecisionTreeClassifier\n",
    "from sklearn.ensemble import RandomForestClassifier\n",
    "from sklearn.linear_model import LogisticRegression\n",
    "from sklearn.naive_bayes import GaussianNB\n",
    "from sklearn.metrics import accuracy_score,confusion_matrix\n",
    "from sklearn.model_selection import train_test_split\n",
    "import warnings \n",
    "warnings.filterwarnings('ignore')"
   ]
  },
  {
   "cell_type": "code",
   "execution_count": 40,
   "id": "6fbfb09b",
   "metadata": {},
   "outputs": [],
   "source": [
    "X=df.drop('DEF_AMT',axis=1)\n",
    "Y=df['DEF_AMT']"
   ]
  },
  {
   "cell_type": "code",
   "execution_count": 43,
   "id": "0a949771",
   "metadata": {},
   "outputs": [
    {
     "name": "stdout",
     "output_type": "stream",
     "text": [
      "shape of x_train is (20990, 28)\n",
      "shape of x_test is (8996, 28)\n",
      "shape of y_train is (20990,)\n",
      "shape of y_test is (8996,)\n"
     ]
    }
   ],
   "source": [
    "xtrain,xtest,ytrain,ytest = train_test_split(X,Y,random_state=5,test_size=0.3)\n",
    "print(\"shape of x_train is\",xtrain.shape)\n",
    "print(\"shape of x_test is\",xtest.shape)\n",
    "print(\"shape of y_train is\",ytrain.shape)\n",
    "print(\"shape of y_test is\",ytest.shape)"
   ]
  },
  {
   "cell_type": "code",
   "execution_count": 44,
   "id": "82161003",
   "metadata": {},
   "outputs": [],
   "source": [
    "def log_reg(xtrain,xtest,ytrain,ytest):\n",
    "    model_LR = LogisticRegression()\n",
    "    model_LR.fit(xtrain,ytrain)\n",
    "    pv= model_LR.predict(xtest)\n",
    "    print(\"Accuracy Score of Logistic Regression is :\", accuracy_score(ytest,pv))\n",
    "\n",
    "def DTR(xtrain,xtest,ytrain,ytest):\n",
    "    model_DTR = DecisionTreeClassifier()\n",
    "    model_DTR.fit(xtrain,ytrain)\n",
    "    pv= model_DTR.predict(xtest)\n",
    "    print(\"Accuracy Score of Decision Tree Classifier is :\", accuracy_score(ytest,pv))\n",
    "    \n",
    "def RF(xtrain,xtest,ytrain,ytest):\n",
    "    model_RF = RandomForestClassifier(n_estimators = xtrain.shape[1]**2)\n",
    "    model_RF.fit(xtrain,ytrain)\n",
    "    pv= model_RF.predict(xtest)\n",
    "    print(\"Accuracy Score of Random Forest Classifier is :\", accuracy_score(ytest,pv))\n",
    "\n",
    "def GNB(xtrain,xtest,ytrain,ytest):\n",
    "    model_NB = GaussianNB()\n",
    "    model_NB.fit(xtrain,ytrain)\n",
    "    pv= model_NB.predict(xtest)\n",
    "    print(\"Accuracy Score of GaussianNaiveBaye's Classification is :\", accuracy_score(ytest,pv))\n",
    "    "
   ]
  },
  {
   "cell_type": "code",
   "execution_count": 45,
   "id": "ed94d8cd",
   "metadata": {},
   "outputs": [
    {
     "name": "stdout",
     "output_type": "stream",
     "text": [
      "Accuracy Score of Logistic Regression is : 0.7794575366829702\n",
      "Accuracy Score of Decision Tree Classifier is : 0.7137616718541574\n",
      "Accuracy Score of Random Forest Classifier is : 0.812361049355269\n",
      "Accuracy Score of GaussianNaiveBaye's Classification is : 0.38016896398399286\n"
     ]
    }
   ],
   "source": [
    "log_reg(xtrain,xtest,ytrain,ytest)\n",
    "DTR(xtrain,xtest,ytrain,ytest)\n",
    "RF(xtrain,xtest,ytrain,ytest)\n",
    "GNB(xtrain,xtest,ytrain,ytest)"
   ]
  },
  {
   "cell_type": "markdown",
   "id": "8cc95663",
   "metadata": {},
   "source": [
    "Random Forest classifier seems to be the best model and Naive Baye's has the worst accuracy out of these.  \n",
    "Let us do some more cleaning and see if it increases our model accuracies. We can start with finding the correlations and dropping the highly correlated columns."
   ]
  },
  {
   "cell_type": "code",
   "execution_count": 46,
   "id": "df921af3",
   "metadata": {},
   "outputs": [
    {
     "data": {
      "image/png": "[encoded data removed]",
      "text/plain": [
       "<Figure size 2000x2000 with 2 Axes>"
      ]
     },
     "metadata": {},
     "output_type": "display_data"
    }
   ],
   "source": [
    "corr_df = df.corr()\n",
    "plt.figure(figsize = (20,20))\n",
    "sns.heatmap(corr_df,annot=True,cmap='coolwarm',linewidth =0.5)\n",
    "plt.show()"
   ]
  },
  {
   "cell_type": "code",
   "execution_count": 47,
   "id": "f2872c3d",
   "metadata": {},
   "outputs": [
    {
     "name": "stdout",
     "output_type": "stream",
     "text": [
      "['AGE', 'AGE_BIN', 'AMTBILL_JUN', 'AVG_BILLAMT', 'AMTBILL_JUL', 'AMTBILL_AUG', 'AMTBILL_SEP', 'AMTBILL_MAY', 'AMTBILL_APR', 'AMT_BIN', 'AMT', 'REPAY_JUN', 'AVG_DELAY', 'REPAY_JUL', 'REPAY_MAY']\n"
     ]
    }
   ],
   "source": [
    "# map features to their absolute correlation values\n",
    "corr = df.drop('DEF_AMT', axis=1).corr().abs()\n",
    "\n",
    "# set equality (self correlation) as zero\n",
    "corr[corr == 1] = 0\n",
    "\n",
    "# of each feature, find the max correlation\n",
    "# and sort the resulting array in ascending order\n",
    "corr_cols = corr.max().sort_values(ascending=False)\n",
    "\n",
    "# display the highly correlated features\n",
    "x = corr_cols[corr_cols > 0.8]\n",
    "list2 = list(x.index)\n",
    "print(list2)"
   ]
  },
  {
   "cell_type": "code",
   "execution_count": 48,
   "id": "a2db48b3",
   "metadata": {},
   "outputs": [],
   "source": [
    "df.drop(list2[1:],axis=1,inplace=True)"
   ]
  },
  {
   "cell_type": "code",
   "execution_count": 49,
   "id": "146fb3ab",
   "metadata": {},
   "outputs": [
    {
     "data": {
      "text/plain": [
       "Index(['GENDER', 'EDUCATION', 'MARITAL STATUS', 'AGE', 'REPAY_SEP',\n",
       "       'REPAY_AUG', 'REPAY_APR', 'PRE_SEP', 'PRE_AUG', 'PRE_JUL', 'PRE_JUN',\n",
       "       'PRE_MAY', 'PRE_APR', 'DEF_AMT', 'AVG_PREPAY'],\n",
       "      dtype='object')"
      ]
     },
     "execution_count": 49,
     "metadata": {},
     "output_type": "execute_result"
    }
   ],
   "source": [
    "df.columns"
   ]
  },
  {
   "cell_type": "markdown",
   "id": "99258a02",
   "metadata": {},
   "source": [
    "We can also drop those columns with least variance as they will not give any substantial information."
   ]
  },
  {
   "cell_type": "code",
   "execution_count": 50,
   "id": "ff128d3e",
   "metadata": {},
   "outputs": [],
   "source": [
    "for i in df.columns:\n",
    "    if df[i].var() < 0.01:\n",
    "        df.drop(i, axis = 1, inplace=True)"
   ]
  },
  {
   "cell_type": "code",
   "execution_count": 51,
   "id": "8ddeda87",
   "metadata": {},
   "outputs": [
    {
     "data": {
      "text/html": [
       "<div>\n",
       "<style scoped>\n",
       "    .dataframe tbody tr th:only-of-type {\n",
       "        vertical-align: middle;\n",
       "    }\n",
       "\n",
       "    .dataframe tbody tr th {\n",
       "        vertical-align: top;\n",
       "    }\n",
       "\n",
       "    .dataframe thead th {\n",
       "        text-align: right;\n",
       "    }\n",
       "</style>\n",
       "<table border=\"1\" class=\"dataframe\">\n",
       "  <thead>\n",
       "    <tr style=\"text-align: right;\">\n",
       "      <th></th>\n",
       "      <th>GENDER</th>\n",
       "      <th>EDUCATION</th>\n",
       "      <th>MARITAL STATUS</th>\n",
       "      <th>AGE</th>\n",
       "      <th>REPAY_SEP</th>\n",
       "      <th>REPAY_AUG</th>\n",
       "      <th>REPAY_APR</th>\n",
       "      <th>PRE_SEP</th>\n",
       "      <th>PRE_AUG</th>\n",
       "      <th>PRE_JUL</th>\n",
       "      <th>PRE_JUN</th>\n",
       "      <th>PRE_MAY</th>\n",
       "      <th>PRE_APR</th>\n",
       "      <th>DEF_AMT</th>\n",
       "      <th>AVG_PREPAY</th>\n",
       "    </tr>\n",
       "  </thead>\n",
       "  <tbody>\n",
       "    <tr>\n",
       "      <th>0</th>\n",
       "      <td>2</td>\n",
       "      <td>2.0</td>\n",
       "      <td>1</td>\n",
       "      <td>24</td>\n",
       "      <td>2</td>\n",
       "      <td>2</td>\n",
       "      <td>0</td>\n",
       "      <td>0.0</td>\n",
       "      <td>689.0</td>\n",
       "      <td>0.0</td>\n",
       "      <td>0.0</td>\n",
       "      <td>0.0</td>\n",
       "      <td>0.0</td>\n",
       "      <td>1</td>\n",
       "      <td>114.833333</td>\n",
       "    </tr>\n",
       "    <tr>\n",
       "      <th>1</th>\n",
       "      <td>2</td>\n",
       "      <td>2.0</td>\n",
       "      <td>2</td>\n",
       "      <td>26</td>\n",
       "      <td>0</td>\n",
       "      <td>2</td>\n",
       "      <td>2</td>\n",
       "      <td>0.0</td>\n",
       "      <td>1000.0</td>\n",
       "      <td>1000.0</td>\n",
       "      <td>1000.0</td>\n",
       "      <td>0.0</td>\n",
       "      <td>2000.0</td>\n",
       "      <td>1</td>\n",
       "      <td>833.333333</td>\n",
       "    </tr>\n",
       "    <tr>\n",
       "      <th>2</th>\n",
       "      <td>2</td>\n",
       "      <td>2.0</td>\n",
       "      <td>2</td>\n",
       "      <td>34</td>\n",
       "      <td>0</td>\n",
       "      <td>0</td>\n",
       "      <td>0</td>\n",
       "      <td>1518.0</td>\n",
       "      <td>1500.0</td>\n",
       "      <td>1000.0</td>\n",
       "      <td>1000.0</td>\n",
       "      <td>1000.0</td>\n",
       "      <td>5000.0</td>\n",
       "      <td>0</td>\n",
       "      <td>1836.333333</td>\n",
       "    </tr>\n",
       "    <tr>\n",
       "      <th>3</th>\n",
       "      <td>2</td>\n",
       "      <td>2.0</td>\n",
       "      <td>1</td>\n",
       "      <td>37</td>\n",
       "      <td>0</td>\n",
       "      <td>0</td>\n",
       "      <td>0</td>\n",
       "      <td>2000.0</td>\n",
       "      <td>2019.0</td>\n",
       "      <td>1200.0</td>\n",
       "      <td>1100.0</td>\n",
       "      <td>1069.0</td>\n",
       "      <td>1000.0</td>\n",
       "      <td>0</td>\n",
       "      <td>1398.000000</td>\n",
       "    </tr>\n",
       "    <tr>\n",
       "      <th>4</th>\n",
       "      <td>1</td>\n",
       "      <td>2.0</td>\n",
       "      <td>1</td>\n",
       "      <td>57</td>\n",
       "      <td>0</td>\n",
       "      <td>0</td>\n",
       "      <td>0</td>\n",
       "      <td>2000.0</td>\n",
       "      <td>36681.0</td>\n",
       "      <td>10000.0</td>\n",
       "      <td>9000.0</td>\n",
       "      <td>689.0</td>\n",
       "      <td>679.0</td>\n",
       "      <td>0</td>\n",
       "      <td>9841.500000</td>\n",
       "    </tr>\n",
       "    <tr>\n",
       "      <th>...</th>\n",
       "      <td>...</td>\n",
       "      <td>...</td>\n",
       "      <td>...</td>\n",
       "      <td>...</td>\n",
       "      <td>...</td>\n",
       "      <td>...</td>\n",
       "      <td>...</td>\n",
       "      <td>...</td>\n",
       "      <td>...</td>\n",
       "      <td>...</td>\n",
       "      <td>...</td>\n",
       "      <td>...</td>\n",
       "      <td>...</td>\n",
       "      <td>...</td>\n",
       "      <td>...</td>\n",
       "    </tr>\n",
       "    <tr>\n",
       "      <th>29995</th>\n",
       "      <td>1</td>\n",
       "      <td>3.0</td>\n",
       "      <td>1</td>\n",
       "      <td>39</td>\n",
       "      <td>0</td>\n",
       "      <td>0</td>\n",
       "      <td>0</td>\n",
       "      <td>8500.0</td>\n",
       "      <td>20000.0</td>\n",
       "      <td>5003.0</td>\n",
       "      <td>3047.0</td>\n",
       "      <td>5000.0</td>\n",
       "      <td>1000.0</td>\n",
       "      <td>0</td>\n",
       "      <td>7091.666667</td>\n",
       "    </tr>\n",
       "    <tr>\n",
       "      <th>29996</th>\n",
       "      <td>1</td>\n",
       "      <td>3.0</td>\n",
       "      <td>2</td>\n",
       "      <td>43</td>\n",
       "      <td>0</td>\n",
       "      <td>0</td>\n",
       "      <td>0</td>\n",
       "      <td>1837.0</td>\n",
       "      <td>3526.0</td>\n",
       "      <td>8998.0</td>\n",
       "      <td>129.0</td>\n",
       "      <td>0.0</td>\n",
       "      <td>0.0</td>\n",
       "      <td>0</td>\n",
       "      <td>2415.000000</td>\n",
       "    </tr>\n",
       "    <tr>\n",
       "      <th>29997</th>\n",
       "      <td>1</td>\n",
       "      <td>2.0</td>\n",
       "      <td>2</td>\n",
       "      <td>37</td>\n",
       "      <td>4</td>\n",
       "      <td>3</td>\n",
       "      <td>0</td>\n",
       "      <td>0.0</td>\n",
       "      <td>0.0</td>\n",
       "      <td>22000.0</td>\n",
       "      <td>4200.0</td>\n",
       "      <td>2000.0</td>\n",
       "      <td>3100.0</td>\n",
       "      <td>1</td>\n",
       "      <td>5216.666667</td>\n",
       "    </tr>\n",
       "    <tr>\n",
       "      <th>29998</th>\n",
       "      <td>1</td>\n",
       "      <td>3.0</td>\n",
       "      <td>1</td>\n",
       "      <td>41</td>\n",
       "      <td>1</td>\n",
       "      <td>0</td>\n",
       "      <td>0</td>\n",
       "      <td>85900.0</td>\n",
       "      <td>3409.0</td>\n",
       "      <td>1178.0</td>\n",
       "      <td>1926.0</td>\n",
       "      <td>52964.0</td>\n",
       "      <td>1804.0</td>\n",
       "      <td>1</td>\n",
       "      <td>24530.166667</td>\n",
       "    </tr>\n",
       "    <tr>\n",
       "      <th>29999</th>\n",
       "      <td>1</td>\n",
       "      <td>2.0</td>\n",
       "      <td>1</td>\n",
       "      <td>46</td>\n",
       "      <td>0</td>\n",
       "      <td>0</td>\n",
       "      <td>0</td>\n",
       "      <td>2078.0</td>\n",
       "      <td>1800.0</td>\n",
       "      <td>1430.0</td>\n",
       "      <td>1000.0</td>\n",
       "      <td>1000.0</td>\n",
       "      <td>1000.0</td>\n",
       "      <td>1</td>\n",
       "      <td>1384.666667</td>\n",
       "    </tr>\n",
       "  </tbody>\n",
       "</table>\n",
       "<p>29986 rows × 15 columns</p>\n",
       "</div>"
      ],
      "text/plain": [
       "       GENDER  EDUCATION  MARITAL STATUS  AGE  REPAY_SEP  REPAY_AUG  \\\n",
       "0           2        2.0               1   24          2          2   \n",
       "1           2        2.0               2   26          0          2   \n",
       "2           2        2.0               2   34          0          0   \n",
       "3           2        2.0               1   37          0          0   \n",
       "4           1        2.0               1   57          0          0   \n",
       "...       ...        ...             ...  ...        ...        ...   \n",
       "29995       1        3.0               1   39          0          0   \n",
       "29996       1        3.0               2   43          0          0   \n",
       "29997       1        2.0               2   37          4          3   \n",
       "29998       1        3.0               1   41          1          0   \n",
       "29999       1        2.0               1   46          0          0   \n",
       "\n",
       "       REPAY_APR  PRE_SEP  PRE_AUG  PRE_JUL  PRE_JUN  PRE_MAY  PRE_APR  \\\n",
       "0              0      0.0    689.0      0.0      0.0      0.0      0.0   \n",
       "1              2      0.0   1000.0   1000.0   1000.0      0.0   2000.0   \n",
       "2              0   1518.0   1500.0   1000.0   1000.0   1000.0   5000.0   \n",
       "3              0   2000.0   2019.0   1200.0   1100.0   1069.0   1000.0   \n",
       "4              0   2000.0  36681.0  10000.0   9000.0    689.0    679.0   \n",
       "...          ...      ...      ...      ...      ...      ...      ...   \n",
       "29995          0   8500.0  20000.0   5003.0   3047.0   5000.0   1000.0   \n",
       "29996          0   1837.0   3526.0   8998.0    129.0      0.0      0.0   \n",
       "29997          0      0.0      0.0  22000.0   4200.0   2000.0   3100.0   \n",
       "29998          0  85900.0   3409.0   1178.0   1926.0  52964.0   1804.0   \n",
       "29999          0   2078.0   1800.0   1430.0   1000.0   1000.0   1000.0   \n",
       "\n",
       "       DEF_AMT    AVG_PREPAY  \n",
       "0            1    114.833333  \n",
       "1            1    833.333333  \n",
       "2            0   1836.333333  \n",
       "3            0   1398.000000  \n",
       "4            0   9841.500000  \n",
       "...        ...           ...  \n",
       "29995        0   7091.666667  \n",
       "29996        0   2415.000000  \n",
       "29997        1   5216.666667  \n",
       "29998        1  24530.166667  \n",
       "29999        1   1384.666667  \n",
       "\n",
       "[29986 rows x 15 columns]"
      ]
     },
     "execution_count": 51,
     "metadata": {},
     "output_type": "execute_result"
    }
   ],
   "source": [
    "df"
   ]
  },
  {
   "cell_type": "markdown",
   "id": "2e66d42d",
   "metadata": {},
   "source": [
    "We can remove outliers for a cleaner dataset. Let us use z score to do this."
   ]
  },
  {
   "cell_type": "code",
   "execution_count": 52,
   "id": "c882600c",
   "metadata": {},
   "outputs": [
    {
     "data": {
      "text/plain": [
       "(26739, 15)"
      ]
     },
     "execution_count": 52,
     "metadata": {},
     "output_type": "execute_result"
    }
   ],
   "source": [
    "import scipy.stats as stats\n",
    "z = np.abs(stats.zscore(df))\n",
    "\n",
    "#only keep rows in dataframe with all z-scores less than absolute value of 3 \n",
    "df = df[(z<3).all(axis=1)]\n",
    "\n",
    "#find how many rows are left in the dataframe \n",
    "df.shape"
   ]
  },
  {
   "cell_type": "code",
   "execution_count": 53,
   "id": "4a904a18",
   "metadata": {},
   "outputs": [
    {
     "data": {
      "text/plain": [
       "3247"
      ]
     },
     "execution_count": 53,
     "metadata": {},
     "output_type": "execute_result"
    }
   ],
   "source": [
    "29986-26739"
   ]
  },
  {
   "cell_type": "markdown",
   "id": "4f8f9614",
   "metadata": {},
   "source": [
    "3247 rows were removed, which is acceptable if this helps us create a better model."
   ]
  },
  {
   "cell_type": "code",
   "execution_count": 54,
   "id": "b80ec7e0",
   "metadata": {},
   "outputs": [],
   "source": [
    "X=df.drop('DEF_AMT',axis=1)\n",
    "Y=df['DEF_AMT']"
   ]
  },
  {
   "cell_type": "code",
   "execution_count": 55,
   "id": "c3a0e015",
   "metadata": {},
   "outputs": [
    {
     "name": "stdout",
     "output_type": "stream",
     "text": [
      "shape of x_train is (18717, 14)\n",
      "shape of x_test is (8022, 14)\n",
      "shape of y_train is (18717,)\n",
      "shape of y_test is (8022,)\n"
     ]
    }
   ],
   "source": [
    "xtrain,xtest,ytrain,ytest = train_test_split(X,Y,random_state=5,test_size=0.3)\n",
    "print(\"shape of x_train is\",xtrain.shape)\n",
    "print(\"shape of x_test is\",xtest.shape)\n",
    "print(\"shape of y_train is\",ytrain.shape)\n",
    "print(\"shape of y_test is\",ytest.shape)"
   ]
  },
  {
   "cell_type": "code",
   "execution_count": 56,
   "id": "4d8d3af6",
   "metadata": {},
   "outputs": [
    {
     "name": "stdout",
     "output_type": "stream",
     "text": [
      "Accuracy Score of Logistic Regression is : 0.8103964098728497\n"
     ]
    }
   ],
   "source": [
    "log_reg(xtrain,xtest,ytrain,ytest)"
   ]
  },
  {
   "cell_type": "code",
   "execution_count": 57,
   "id": "aa932b16",
   "metadata": {},
   "outputs": [
    {
     "name": "stdout",
     "output_type": "stream",
     "text": [
      "Accuracy Score of Decision Tree Classifier is : 0.7130391423585141\n"
     ]
    }
   ],
   "source": [
    "DTR(xtrain,xtest,ytrain,ytest)"
   ]
  },
  {
   "cell_type": "code",
   "execution_count": 58,
   "id": "d48b7c72",
   "metadata": {},
   "outputs": [
    {
     "name": "stdout",
     "output_type": "stream",
     "text": [
      "Accuracy Score of Random Forest Classifier is : 0.8160059835452506\n"
     ]
    }
   ],
   "source": [
    "RF(xtrain,xtest,ytrain,ytest)"
   ]
  },
  {
   "cell_type": "code",
   "execution_count": 59,
   "id": "919c5662",
   "metadata": {},
   "outputs": [
    {
     "name": "stdout",
     "output_type": "stream",
     "text": [
      "Accuracy Score of GaussianNaiveBaye's Classification is : 0.7731239092495636\n"
     ]
    }
   ],
   "source": [
    "GNB(xtrain,xtest,ytrain,ytest)"
   ]
  },
  {
   "cell_type": "markdown",
   "id": "199bde0c",
   "metadata": {},
   "source": [
    "Random Forest Classifier still seems to be the best kind of model for this particular dataset closely followed by Logistic Regression.  \n",
    "\n",
    "The removal of highly correlated columns, those columns with least variance and the removal of outliers improved the performance of the Naive Baye's classifier drastically. It also improved the accuracy of logistic regression model a little."
   ]
  },
  {
   "cell_type": "code",
   "execution_count": null,
   "id": "f8aac029",
   "metadata": {},
   "outputs": [],
   "source": []
  }
 ],
 "metadata": {
  "kernelspec": {
   "display_name": "Python 3 (ipykernel)",
   "language": "python",
   "name": "python3"
  },
  "language_info": {
   "codemirror_mode": {
    "name": "ipython",
    "version": 3
   },
   "file_extension": ".py",
   "mimetype": "text/x-python",
   "name": "python",
   "nbconvert_exporter": "python",
   "pygments_lexer": "ipython3",
   "version": "3.9.16"
  }
 },
 "nbformat": 4,
 "nbformat_minor": 5
}
